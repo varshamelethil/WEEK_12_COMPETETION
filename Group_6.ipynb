{
  "cells": [
    {
      "cell_type": "markdown",
      "id": "_6w68f1NzLtk",
      "metadata": {
        "id": "_6w68f1NzLtk"
      },
      "source": [
        "# Week 12 - Competition -IoT and Sensor Data Analysis"
      ]
    },
    {
      "cell_type": "markdown",
      "id": "a3ff1cb6",
      "metadata": {
        "id": "a3ff1cb6"
      },
      "source": [
        "### 1.Data Collection"
      ]
    },
    {
      "cell_type": "markdown",
      "id": "ALQO-G6H0WNQ",
      "metadata": {
        "id": "ALQO-G6H0WNQ"
      },
      "source": [
        "## Tetuan City power consumption"
      ]
    },
    {
      "cell_type": "markdown",
      "id": "Nkg7xeU23gbJ",
      "metadata": {
        "id": "Nkg7xeU23gbJ"
      },
      "source": [
        "From IoT and Sensor data analysis category, Tetuan City power consumption data is selcted for analysis.\n",
        "This dataset  has a total of 11 columns and 2000 rows.\n",
        "The features of the dataset are \n",
        "\n",
        "- Temperature\n",
        "- Humidity\n",
        "- Pressure\n",
        "- CloudCover\n",
        "- Wind Speed\n",
        "- General_diffuse_flows\t\n",
        "- Diffuse_flows\n",
        "\n",
        "Target is __Total_power_consumption__ which is the combination of \n",
        "- Zone1_PowerConsumption\n",
        "- Zone2_ PowerConsumption\n",
        "- Zone3_PowerConsumption.\n",
        "\n"
      ]
    },
    {
      "cell_type": "code",
      "execution_count": 107,
      "id": "5455825e",
      "metadata": {
        "id": "5455825e"
      },
      "outputs": [],
      "source": [
        "#importing required libraries\n",
        "import pandas as pd\n",
        "import numpy as np\n",
        "import matplotlib.pyplot as plt\n",
        "import seaborn as sns"
      ]
    },
    {
      "cell_type": "code",
      "execution_count": 108,
      "id": "2552f8fa",
      "metadata": {
        "id": "2552f8fa"
      },
      "outputs": [],
      "source": [
        "import warnings\n",
        "warnings.filterwarnings(action=\"ignore\")"
      ]
    },
    {
      "cell_type": "code",
      "execution_count": 109,
      "id": "48c50bfc",
      "metadata": {
        "id": "48c50bfc"
      },
      "outputs": [],
      "source": [
        "# importing data set in to python envirinment \n",
        "df= pd.read_excel(\"power consumption.xlsx\")"
      ]
    },
    {
      "cell_type": "code",
      "execution_count": 110,
      "id": "3531a34c",
      "metadata": {
        "colab": {
          "base_uri": "https://localhost:8080/",
          "height": 461
        },
        "id": "3531a34c",
        "outputId": "1f7959d6-392e-489a-d131-51658456adad"
      },
      "outputs": [
        {
          "output_type": "execute_result",
          "data": {
            "text/html": [
              "\n",
              "  <div id=\"df-fa87cd68-8c6f-4022-b561-dfd853f90379\">\n",
              "    <div class=\"colab-df-container\">\n",
              "      <div>\n",
              "<style scoped>\n",
              "    .dataframe tbody tr th:only-of-type {\n",
              "        vertical-align: middle;\n",
              "    }\n",
              "\n",
              "    .dataframe tbody tr th {\n",
              "        vertical-align: top;\n",
              "    }\n",
              "\n",
              "    .dataframe thead th {\n",
              "        text-align: right;\n",
              "    }\n",
              "</style>\n",
              "<table border=\"1\" class=\"dataframe\">\n",
              "  <thead>\n",
              "    <tr style=\"text-align: right;\">\n",
              "      <th></th>\n",
              "      <th>DateTime</th>\n",
              "      <th>Temperature</th>\n",
              "      <th>Humidity</th>\n",
              "      <th>Pressure</th>\n",
              "      <th>CloudCover</th>\n",
              "      <th>Wind Speed</th>\n",
              "      <th>General_diffuse_flows</th>\n",
              "      <th>Diffuse_flows</th>\n",
              "      <th>Zone1_PowerConsumption</th>\n",
              "      <th>Zone2_ PowerConsumption</th>\n",
              "      <th>Zone3_PowerConsumption</th>\n",
              "    </tr>\n",
              "  </thead>\n",
              "  <tbody>\n",
              "    <tr>\n",
              "      <th>0</th>\n",
              "      <td>2017-01-01 00:00:00</td>\n",
              "      <td>6.559</td>\n",
              "      <td>73.8</td>\n",
              "      <td>1016.91</td>\n",
              "      <td>0.23</td>\n",
              "      <td>0.083</td>\n",
              "      <td>0.051</td>\n",
              "      <td>0.119</td>\n",
              "      <td>34055.69620</td>\n",
              "      <td>16128.87538</td>\n",
              "      <td>20240.96386</td>\n",
              "    </tr>\n",
              "    <tr>\n",
              "      <th>1</th>\n",
              "      <td>2017-01-01 00:10:00</td>\n",
              "      <td>6.414</td>\n",
              "      <td>74.5</td>\n",
              "      <td>1016.91</td>\n",
              "      <td>0.23</td>\n",
              "      <td>0.083</td>\n",
              "      <td>0.070</td>\n",
              "      <td>0.085</td>\n",
              "      <td>29814.68354</td>\n",
              "      <td>19375.07599</td>\n",
              "      <td>20131.08434</td>\n",
              "    </tr>\n",
              "    <tr>\n",
              "      <th>2</th>\n",
              "      <td>2017-01-01 00:20:00</td>\n",
              "      <td>6.313</td>\n",
              "      <td>74.5</td>\n",
              "      <td>1016.91</td>\n",
              "      <td>0.23</td>\n",
              "      <td>0.080</td>\n",
              "      <td>0.062</td>\n",
              "      <td>0.100</td>\n",
              "      <td>29128.10127</td>\n",
              "      <td>19006.68693</td>\n",
              "      <td>19668.43373</td>\n",
              "    </tr>\n",
              "    <tr>\n",
              "      <th>3</th>\n",
              "      <td>2017-01-01 00:30:00</td>\n",
              "      <td>6.121</td>\n",
              "      <td>75.0</td>\n",
              "      <td>1016.91</td>\n",
              "      <td>0.23</td>\n",
              "      <td>0.083</td>\n",
              "      <td>0.091</td>\n",
              "      <td>0.096</td>\n",
              "      <td>28228.86076</td>\n",
              "      <td>18361.09422</td>\n",
              "      <td>18899.27711</td>\n",
              "    </tr>\n",
              "    <tr>\n",
              "      <th>4</th>\n",
              "      <td>2017-01-01 00:40:00</td>\n",
              "      <td>5.921</td>\n",
              "      <td>75.7</td>\n",
              "      <td>1016.91</td>\n",
              "      <td>0.23</td>\n",
              "      <td>0.081</td>\n",
              "      <td>0.048</td>\n",
              "      <td>0.085</td>\n",
              "      <td>27335.69620</td>\n",
              "      <td>17872.34043</td>\n",
              "      <td>18442.40964</td>\n",
              "    </tr>\n",
              "  </tbody>\n",
              "</table>\n",
              "</div>\n",
              "      <button class=\"colab-df-convert\" onclick=\"convertToInteractive('df-fa87cd68-8c6f-4022-b561-dfd853f90379')\"\n",
              "              title=\"Convert this dataframe to an interactive table.\"\n",
              "              style=\"display:none;\">\n",
              "        \n",
              "  <svg xmlns=\"http://www.w3.org/2000/svg\" height=\"24px\"viewBox=\"0 0 24 24\"\n",
              "       width=\"24px\">\n",
              "    <path d=\"M0 0h24v24H0V0z\" fill=\"none\"/>\n",
              "    <path d=\"M18.56 5.44l.94 2.06.94-2.06 2.06-.94-2.06-.94-.94-2.06-.94 2.06-2.06.94zm-11 1L8.5 8.5l.94-2.06 2.06-.94-2.06-.94L8.5 2.5l-.94 2.06-2.06.94zm10 10l.94 2.06.94-2.06 2.06-.94-2.06-.94-.94-2.06-.94 2.06-2.06.94z\"/><path d=\"M17.41 7.96l-1.37-1.37c-.4-.4-.92-.59-1.43-.59-.52 0-1.04.2-1.43.59L10.3 9.45l-7.72 7.72c-.78.78-.78 2.05 0 2.83L4 21.41c.39.39.9.59 1.41.59.51 0 1.02-.2 1.41-.59l7.78-7.78 2.81-2.81c.8-.78.8-2.07 0-2.86zM5.41 20L4 18.59l7.72-7.72 1.47 1.35L5.41 20z\"/>\n",
              "  </svg>\n",
              "      </button>\n",
              "      \n",
              "  <style>\n",
              "    .colab-df-container {\n",
              "      display:flex;\n",
              "      flex-wrap:wrap;\n",
              "      gap: 12px;\n",
              "    }\n",
              "\n",
              "    .colab-df-convert {\n",
              "      background-color: #E8F0FE;\n",
              "      border: none;\n",
              "      border-radius: 50%;\n",
              "      cursor: pointer;\n",
              "      display: none;\n",
              "      fill: #1967D2;\n",
              "      height: 32px;\n",
              "      padding: 0 0 0 0;\n",
              "      width: 32px;\n",
              "    }\n",
              "\n",
              "    .colab-df-convert:hover {\n",
              "      background-color: #E2EBFA;\n",
              "      box-shadow: 0px 1px 2px rgba(60, 64, 67, 0.3), 0px 1px 3px 1px rgba(60, 64, 67, 0.15);\n",
              "      fill: #174EA6;\n",
              "    }\n",
              "\n",
              "    [theme=dark] .colab-df-convert {\n",
              "      background-color: #3B4455;\n",
              "      fill: #D2E3FC;\n",
              "    }\n",
              "\n",
              "    [theme=dark] .colab-df-convert:hover {\n",
              "      background-color: #434B5C;\n",
              "      box-shadow: 0px 1px 3px 1px rgba(0, 0, 0, 0.15);\n",
              "      filter: drop-shadow(0px 1px 2px rgba(0, 0, 0, 0.3));\n",
              "      fill: #FFFFFF;\n",
              "    }\n",
              "  </style>\n",
              "\n",
              "      <script>\n",
              "        const buttonEl =\n",
              "          document.querySelector('#df-fa87cd68-8c6f-4022-b561-dfd853f90379 button.colab-df-convert');\n",
              "        buttonEl.style.display =\n",
              "          google.colab.kernel.accessAllowed ? 'block' : 'none';\n",
              "\n",
              "        async function convertToInteractive(key) {\n",
              "          const element = document.querySelector('#df-fa87cd68-8c6f-4022-b561-dfd853f90379');\n",
              "          const dataTable =\n",
              "            await google.colab.kernel.invokeFunction('convertToInteractive',\n",
              "                                                     [key], {});\n",
              "          if (!dataTable) return;\n",
              "\n",
              "          const docLinkHtml = 'Like what you see? Visit the ' +\n",
              "            '<a target=\"_blank\" href=https://colab.research.google.com/notebooks/data_table.ipynb>data table notebook</a>'\n",
              "            + ' to learn more about interactive tables.';\n",
              "          element.innerHTML = '';\n",
              "          dataTable['output_type'] = 'display_data';\n",
              "          await google.colab.output.renderOutput(dataTable, element);\n",
              "          const docLink = document.createElement('div');\n",
              "          docLink.innerHTML = docLinkHtml;\n",
              "          element.appendChild(docLink);\n",
              "        }\n",
              "      </script>\n",
              "    </div>\n",
              "  </div>\n",
              "  "
            ],
            "text/plain": [
              "              DateTime  ...  Zone3_PowerConsumption\n",
              "0  2017-01-01 00:00:00  ...             20240.96386\n",
              "1  2017-01-01 00:10:00  ...             20131.08434\n",
              "2  2017-01-01 00:20:00  ...             19668.43373\n",
              "3  2017-01-01 00:30:00  ...             18899.27711\n",
              "4  2017-01-01 00:40:00  ...             18442.40964\n",
              "\n",
              "[5 rows x 11 columns]"
            ]
          },
          "metadata": {},
          "execution_count": 110
        }
      ],
      "source": [
        "#first five rows of dataset\n",
        "df.head()"
      ]
    },
    {
      "cell_type": "code",
      "execution_count": 111,
      "id": "c41f9948",
      "metadata": {
        "colab": {
          "base_uri": "https://localhost:8080/",
          "height": 374
        },
        "id": "c41f9948",
        "outputId": "e5cc3ae7-e19a-4bd6-a17a-ed27d50490eb"
      },
      "outputs": [
        {
          "output_type": "execute_result",
          "data": {
            "text/html": [
              "\n",
              "  <div id=\"df-09723533-1409-4664-8437-c1ede6213573\">\n",
              "    <div class=\"colab-df-container\">\n",
              "      <div>\n",
              "<style scoped>\n",
              "    .dataframe tbody tr th:only-of-type {\n",
              "        vertical-align: middle;\n",
              "    }\n",
              "\n",
              "    .dataframe tbody tr th {\n",
              "        vertical-align: top;\n",
              "    }\n",
              "\n",
              "    .dataframe thead th {\n",
              "        text-align: right;\n",
              "    }\n",
              "</style>\n",
              "<table border=\"1\" class=\"dataframe\">\n",
              "  <thead>\n",
              "    <tr style=\"text-align: right;\">\n",
              "      <th></th>\n",
              "      <th>DateTime</th>\n",
              "      <th>Temperature</th>\n",
              "      <th>Humidity</th>\n",
              "      <th>Pressure</th>\n",
              "      <th>CloudCover</th>\n",
              "      <th>Wind Speed</th>\n",
              "      <th>General_diffuse_flows</th>\n",
              "      <th>Diffuse_flows</th>\n",
              "      <th>Zone1_PowerConsumption</th>\n",
              "      <th>Zone2_ PowerConsumption</th>\n",
              "      <th>Zone3_PowerConsumption</th>\n",
              "    </tr>\n",
              "  </thead>\n",
              "  <tbody>\n",
              "    <tr>\n",
              "      <th>1995</th>\n",
              "      <td>1/14/2017 20:30</td>\n",
              "      <td>13.04</td>\n",
              "      <td>76.3</td>\n",
              "      <td>1016.35</td>\n",
              "      <td>0.1</td>\n",
              "      <td>0.074</td>\n",
              "      <td>0.059</td>\n",
              "      <td>0.096</td>\n",
              "      <td>41577.72152</td>\n",
              "      <td>25378.72340</td>\n",
              "      <td>26145.54217</td>\n",
              "    </tr>\n",
              "    <tr>\n",
              "      <th>1996</th>\n",
              "      <td>1/14/2017 20:40</td>\n",
              "      <td>12.94</td>\n",
              "      <td>77.0</td>\n",
              "      <td>1016.35</td>\n",
              "      <td>0.1</td>\n",
              "      <td>0.072</td>\n",
              "      <td>0.033</td>\n",
              "      <td>0.156</td>\n",
              "      <td>41358.98734</td>\n",
              "      <td>25218.23708</td>\n",
              "      <td>25810.12048</td>\n",
              "    </tr>\n",
              "    <tr>\n",
              "      <th>1997</th>\n",
              "      <td>1/14/2017 20:50</td>\n",
              "      <td>12.96</td>\n",
              "      <td>76.8</td>\n",
              "      <td>1016.35</td>\n",
              "      <td>0.1</td>\n",
              "      <td>0.072</td>\n",
              "      <td>0.077</td>\n",
              "      <td>0.152</td>\n",
              "      <td>41006.58228</td>\n",
              "      <td>24962.91793</td>\n",
              "      <td>25335.90361</td>\n",
              "    </tr>\n",
              "    <tr>\n",
              "      <th>1998</th>\n",
              "      <td>1/14/2017 21:00</td>\n",
              "      <td>12.92</td>\n",
              "      <td>76.7</td>\n",
              "      <td>1016.35</td>\n",
              "      <td>0.1</td>\n",
              "      <td>0.073</td>\n",
              "      <td>0.062</td>\n",
              "      <td>0.108</td>\n",
              "      <td>40854.68354</td>\n",
              "      <td>24784.19453</td>\n",
              "      <td>25191.32530</td>\n",
              "    </tr>\n",
              "    <tr>\n",
              "      <th>1999</th>\n",
              "      <td>1/14/2017 21:10</td>\n",
              "      <td>13.04</td>\n",
              "      <td>76.6</td>\n",
              "      <td>1016.35</td>\n",
              "      <td>0.1</td>\n",
              "      <td>0.072</td>\n",
              "      <td>0.048</td>\n",
              "      <td>0.104</td>\n",
              "      <td>40386.83544</td>\n",
              "      <td>24568.99696</td>\n",
              "      <td>25058.31325</td>\n",
              "    </tr>\n",
              "  </tbody>\n",
              "</table>\n",
              "</div>\n",
              "      <button class=\"colab-df-convert\" onclick=\"convertToInteractive('df-09723533-1409-4664-8437-c1ede6213573')\"\n",
              "              title=\"Convert this dataframe to an interactive table.\"\n",
              "              style=\"display:none;\">\n",
              "        \n",
              "  <svg xmlns=\"http://www.w3.org/2000/svg\" height=\"24px\"viewBox=\"0 0 24 24\"\n",
              "       width=\"24px\">\n",
              "    <path d=\"M0 0h24v24H0V0z\" fill=\"none\"/>\n",
              "    <path d=\"M18.56 5.44l.94 2.06.94-2.06 2.06-.94-2.06-.94-.94-2.06-.94 2.06-2.06.94zm-11 1L8.5 8.5l.94-2.06 2.06-.94-2.06-.94L8.5 2.5l-.94 2.06-2.06.94zm10 10l.94 2.06.94-2.06 2.06-.94-2.06-.94-.94-2.06-.94 2.06-2.06.94z\"/><path d=\"M17.41 7.96l-1.37-1.37c-.4-.4-.92-.59-1.43-.59-.52 0-1.04.2-1.43.59L10.3 9.45l-7.72 7.72c-.78.78-.78 2.05 0 2.83L4 21.41c.39.39.9.59 1.41.59.51 0 1.02-.2 1.41-.59l7.78-7.78 2.81-2.81c.8-.78.8-2.07 0-2.86zM5.41 20L4 18.59l7.72-7.72 1.47 1.35L5.41 20z\"/>\n",
              "  </svg>\n",
              "      </button>\n",
              "      \n",
              "  <style>\n",
              "    .colab-df-container {\n",
              "      display:flex;\n",
              "      flex-wrap:wrap;\n",
              "      gap: 12px;\n",
              "    }\n",
              "\n",
              "    .colab-df-convert {\n",
              "      background-color: #E8F0FE;\n",
              "      border: none;\n",
              "      border-radius: 50%;\n",
              "      cursor: pointer;\n",
              "      display: none;\n",
              "      fill: #1967D2;\n",
              "      height: 32px;\n",
              "      padding: 0 0 0 0;\n",
              "      width: 32px;\n",
              "    }\n",
              "\n",
              "    .colab-df-convert:hover {\n",
              "      background-color: #E2EBFA;\n",
              "      box-shadow: 0px 1px 2px rgba(60, 64, 67, 0.3), 0px 1px 3px 1px rgba(60, 64, 67, 0.15);\n",
              "      fill: #174EA6;\n",
              "    }\n",
              "\n",
              "    [theme=dark] .colab-df-convert {\n",
              "      background-color: #3B4455;\n",
              "      fill: #D2E3FC;\n",
              "    }\n",
              "\n",
              "    [theme=dark] .colab-df-convert:hover {\n",
              "      background-color: #434B5C;\n",
              "      box-shadow: 0px 1px 3px 1px rgba(0, 0, 0, 0.15);\n",
              "      filter: drop-shadow(0px 1px 2px rgba(0, 0, 0, 0.3));\n",
              "      fill: #FFFFFF;\n",
              "    }\n",
              "  </style>\n",
              "\n",
              "      <script>\n",
              "        const buttonEl =\n",
              "          document.querySelector('#df-09723533-1409-4664-8437-c1ede6213573 button.colab-df-convert');\n",
              "        buttonEl.style.display =\n",
              "          google.colab.kernel.accessAllowed ? 'block' : 'none';\n",
              "\n",
              "        async function convertToInteractive(key) {\n",
              "          const element = document.querySelector('#df-09723533-1409-4664-8437-c1ede6213573');\n",
              "          const dataTable =\n",
              "            await google.colab.kernel.invokeFunction('convertToInteractive',\n",
              "                                                     [key], {});\n",
              "          if (!dataTable) return;\n",
              "\n",
              "          const docLinkHtml = 'Like what you see? Visit the ' +\n",
              "            '<a target=\"_blank\" href=https://colab.research.google.com/notebooks/data_table.ipynb>data table notebook</a>'\n",
              "            + ' to learn more about interactive tables.';\n",
              "          element.innerHTML = '';\n",
              "          dataTable['output_type'] = 'display_data';\n",
              "          await google.colab.output.renderOutput(dataTable, element);\n",
              "          const docLink = document.createElement('div');\n",
              "          docLink.innerHTML = docLinkHtml;\n",
              "          element.appendChild(docLink);\n",
              "        }\n",
              "      </script>\n",
              "    </div>\n",
              "  </div>\n",
              "  "
            ],
            "text/plain": [
              "             DateTime  ...  Zone3_PowerConsumption\n",
              "1995  1/14/2017 20:30  ...             26145.54217\n",
              "1996  1/14/2017 20:40  ...             25810.12048\n",
              "1997  1/14/2017 20:50  ...             25335.90361\n",
              "1998  1/14/2017 21:00  ...             25191.32530\n",
              "1999  1/14/2017 21:10  ...             25058.31325\n",
              "\n",
              "[5 rows x 11 columns]"
            ]
          },
          "metadata": {},
          "execution_count": 111
        }
      ],
      "source": [
        "#Last five rows of dataset\n",
        "df.tail()"
      ]
    },
    {
      "cell_type": "code",
      "execution_count": 112,
      "id": "5b40c89e",
      "metadata": {
        "colab": {
          "base_uri": "https://localhost:8080/"
        },
        "id": "5b40c89e",
        "outputId": "9371ec9d-0f3f-477d-ce56-6a7da82d0b42"
      },
      "outputs": [
        {
          "output_type": "execute_result",
          "data": {
            "text/plain": [
              "(2000, 11)"
            ]
          },
          "metadata": {},
          "execution_count": 112
        }
      ],
      "source": [
        "#shape of the dataset\n",
        "df.shape"
      ]
    },
    {
      "cell_type": "code",
      "execution_count": 113,
      "id": "31f74792",
      "metadata": {
        "colab": {
          "base_uri": "https://localhost:8080/"
        },
        "id": "31f74792",
        "outputId": "37f43080-76eb-48ab-b92d-adec3b3c6741"
      },
      "outputs": [
        {
          "output_type": "execute_result",
          "data": {
            "text/plain": [
              "Index(['DateTime', 'Temperature', 'Humidity', 'Pressure', 'CloudCover',\n",
              "       'Wind Speed', 'General_diffuse_flows', 'Diffuse_flows',\n",
              "       'Zone1_PowerConsumption', 'Zone2_ PowerConsumption',\n",
              "       'Zone3_PowerConsumption'],\n",
              "      dtype='object')"
            ]
          },
          "metadata": {},
          "execution_count": 113
        }
      ],
      "source": [
        "#columns present in the dataset\n",
        "df.columns"
      ]
    },
    {
      "cell_type": "code",
      "execution_count": 114,
      "id": "16dbd359",
      "metadata": {
        "colab": {
          "base_uri": "https://localhost:8080/"
        },
        "id": "16dbd359",
        "outputId": "dd777d2d-0cba-4040-99d9-7b759253583f"
      },
      "outputs": [
        {
          "output_type": "stream",
          "name": "stdout",
          "text": [
            "<class 'pandas.core.frame.DataFrame'>\n",
            "RangeIndex: 2000 entries, 0 to 1999\n",
            "Data columns (total 11 columns):\n",
            " #   Column                   Non-Null Count  Dtype  \n",
            "---  ------                   --------------  -----  \n",
            " 0   DateTime                 2000 non-null   object \n",
            " 1   Temperature              1999 non-null   float64\n",
            " 2   Humidity                 1999 non-null   float64\n",
            " 3   Pressure                 1999 non-null   float64\n",
            " 4   CloudCover               2000 non-null   float64\n",
            " 5   Wind Speed               2000 non-null   float64\n",
            " 6   General_diffuse_flows    1999 non-null   float64\n",
            " 7   Diffuse_flows            2000 non-null   float64\n",
            " 8   Zone1_PowerConsumption   2000 non-null   float64\n",
            " 9   Zone2_ PowerConsumption  2000 non-null   float64\n",
            " 10  Zone3_PowerConsumption   2000 non-null   float64\n",
            "dtypes: float64(10), object(1)\n",
            "memory usage: 172.0+ KB\n"
          ]
        }
      ],
      "source": [
        "#A concise summary of the dataset\n",
        "df.info()"
      ]
    },
    {
      "cell_type": "code",
      "execution_count": 115,
      "id": "b241cc98",
      "metadata": {
        "colab": {
          "base_uri": "https://localhost:8080/"
        },
        "id": "b241cc98",
        "outputId": "d971fe5d-d14c-41d7-b6b9-b82ca4133f90"
      },
      "outputs": [
        {
          "output_type": "execute_result",
          "data": {
            "text/plain": [
              "DateTime                   0\n",
              "Temperature                1\n",
              "Humidity                   1\n",
              "Pressure                   1\n",
              "CloudCover                 0\n",
              "Wind Speed                 0\n",
              "General_diffuse_flows      1\n",
              "Diffuse_flows              0\n",
              "Zone1_PowerConsumption     0\n",
              "Zone2_ PowerConsumption    0\n",
              "Zone3_PowerConsumption     0\n",
              "dtype: int64"
            ]
          },
          "metadata": {},
          "execution_count": 115
        }
      ],
      "source": [
        "# Checking null values\n",
        "df.isna().sum()"
      ]
    },
    {
      "cell_type": "code",
      "execution_count": 116,
      "id": "ff4c19bb",
      "metadata": {
        "colab": {
          "base_uri": "https://localhost:8080/"
        },
        "id": "ff4c19bb",
        "outputId": "7dea7076-d0df-4fef-bcff-88f52e17224b"
      },
      "outputs": [
        {
          "output_type": "execute_result",
          "data": {
            "text/plain": [
              "4"
            ]
          },
          "metadata": {},
          "execution_count": 116
        }
      ],
      "source": [
        "#Checking null values\n",
        "df.isna().sum().sum()"
      ]
    },
    {
      "cell_type": "markdown",
      "id": "65229e99",
      "metadata": {
        "id": "65229e99"
      },
      "source": [
        "There are 4 missing values in the dataset."
      ]
    },
    {
      "cell_type": "code",
      "execution_count": 117,
      "id": "7a1e1c1f",
      "metadata": {
        "colab": {
          "base_uri": "https://localhost:8080/"
        },
        "id": "7a1e1c1f",
        "outputId": "d0c37fad-6913-45a9-ddb1-2e213d044cb8"
      },
      "outputs": [
        {
          "output_type": "execute_result",
          "data": {
            "text/plain": [
              "DateTime                   2000\n",
              "Temperature                 994\n",
              "Humidity                    724\n",
              "Pressure                     33\n",
              "CloudCover                   18\n",
              "Wind Speed                   48\n",
              "General_diffuse_flows       873\n",
              "Diffuse_flows               884\n",
              "Zone1_PowerConsumption     1516\n",
              "Zone2_ PowerConsumption    1515\n",
              "Zone3_PowerConsumption     1169\n",
              "dtype: int64"
            ]
          },
          "metadata": {},
          "execution_count": 117
        }
      ],
      "source": [
        "df.nunique()"
      ]
    },
    {
      "cell_type": "code",
      "execution_count": 118,
      "id": "e63970d5",
      "metadata": {
        "colab": {
          "base_uri": "https://localhost:8080/",
          "height": 607
        },
        "id": "e63970d5",
        "outputId": "12a9c300-b41c-4c2d-a2cc-3e25c7593c9c"
      },
      "outputs": [
        {
          "output_type": "display_data",
          "data": {
            "image/png": "[encoded data removed]",
            "text/plain": [
              "<Figure size 1440x720 with 12 Axes>"
            ]
          },
          "metadata": {
            "needs_background": "light"
          }
        }
      ],
      "source": [
        "freqgraph=df.select_dtypes(include=['float'])\n",
        "freqgraph.hist(figsize=(20,10))\n",
        "plt.show()"
      ]
    },
    {
      "cell_type": "markdown",
      "id": "109700cc",
      "metadata": {
        "id": "109700cc"
      },
      "source": [
        "From the graph, it is visible that there is skewness in each distribution. That is, data is not normally distributed."
      ]
    },
    {
      "cell_type": "code",
      "execution_count": 119,
      "id": "8172074e",
      "metadata": {
        "colab": {
          "base_uri": "https://localhost:8080/"
        },
        "id": "8172074e",
        "outputId": "dd103904-5a2b-4470-8435-cf44ceaed986"
      },
      "outputs": [
        {
          "output_type": "execute_result",
          "data": {
            "text/plain": [
              "DateTime                    object\n",
              "Temperature                float64\n",
              "Humidity                   float64\n",
              "Pressure                   float64\n",
              "CloudCover                 float64\n",
              "Wind Speed                 float64\n",
              "General_diffuse_flows      float64\n",
              "Diffuse_flows              float64\n",
              "Zone1_PowerConsumption     float64\n",
              "Zone2_ PowerConsumption    float64\n",
              "Zone3_PowerConsumption     float64\n",
              "dtype: object"
            ]
          },
          "metadata": {},
          "execution_count": 119
        }
      ],
      "source": [
        "df.dtypes"
      ]
    },
    {
      "cell_type": "markdown",
      "id": "9669351c",
      "metadata": {
        "id": "9669351c"
      },
      "source": [
        "### 2. Pre-processing"
      ]
    },
    {
      "cell_type": "markdown",
      "id": "22d8cbdf",
      "metadata": {
        "id": "22d8cbdf"
      },
      "source": [
        "### 2.1. Missing value handling"
      ]
    },
    {
      "cell_type": "markdown",
      "id": "4c37d7c2",
      "metadata": {
        "id": "4c37d7c2"
      },
      "source": [
        "Median is used to fill missing values in the dataset."
      ]
    },
    {
      "cell_type": "code",
      "execution_count": 120,
      "id": "2e43ba94",
      "metadata": {
        "id": "2e43ba94"
      },
      "outputs": [],
      "source": [
        "df[\"Temperature\"]=df[\"Temperature\"].fillna(df[\"Temperature\"].median())\n",
        "df[\"Humidity\"]=df[\"Humidity\"].fillna(df[\"Humidity\"].median())\n",
        "df[\"Pressure\"]=df[\"Pressure\"].fillna(df[\"Pressure\"].median())\n",
        "df[\"General_diffuse_flows\"]=df[\"General_diffuse_flows\"].fillna(df[\"General_diffuse_flows\"].median())\n"
      ]
    },
    {
      "cell_type": "code",
      "execution_count": 121,
      "id": "ff66a8eb",
      "metadata": {
        "colab": {
          "base_uri": "https://localhost:8080/"
        },
        "id": "ff66a8eb",
        "outputId": "c081b333-2991-4d3c-f612-2d6a415b45a3"
      },
      "outputs": [
        {
          "output_type": "execute_result",
          "data": {
            "text/plain": [
              "DateTime                   0\n",
              "Temperature                0\n",
              "Humidity                   0\n",
              "Pressure                   0\n",
              "CloudCover                 0\n",
              "Wind Speed                 0\n",
              "General_diffuse_flows      0\n",
              "Diffuse_flows              0\n",
              "Zone1_PowerConsumption     0\n",
              "Zone2_ PowerConsumption    0\n",
              "Zone3_PowerConsumption     0\n",
              "dtype: int64"
            ]
          },
          "metadata": {},
          "execution_count": 121
        }
      ],
      "source": [
        "# Checking null values\n",
        "df.isna().sum()"
      ]
    },
    {
      "cell_type": "code",
      "execution_count": 122,
      "id": "c1c35e01",
      "metadata": {
        "colab": {
          "base_uri": "https://localhost:8080/"
        },
        "id": "c1c35e01",
        "outputId": "ba092322-ae0c-413d-8762-1c7e55655497"
      },
      "outputs": [
        {
          "output_type": "execute_result",
          "data": {
            "text/plain": [
              "0"
            ]
          },
          "metadata": {},
          "execution_count": 122
        }
      ],
      "source": [
        "# Checking null values\n",
        "df.isna().sum().sum()"
      ]
    },
    {
      "cell_type": "markdown",
      "id": "75da8dc3",
      "metadata": {
        "id": "75da8dc3"
      },
      "source": [
        "### 2.2 Feature Engineering"
      ]
    },
    {
      "cell_type": "code",
      "execution_count": 123,
      "id": "532ebb22",
      "metadata": {
        "id": "532ebb22"
      },
      "outputs": [],
      "source": [
        "df[\"Total_Power_Consumption\"]=df[\"Zone1_PowerConsumption\"]+df[\"Zone2_ PowerConsumption\"]+df[\"Zone3_PowerConsumption\"]"
      ]
    },
    {
      "cell_type": "code",
      "execution_count": 124,
      "id": "60204701",
      "metadata": {
        "id": "60204701"
      },
      "outputs": [],
      "source": [
        "df=df.drop([\"Zone1_PowerConsumption\",\"Zone2_ PowerConsumption\",\"Zone3_PowerConsumption\"],axis=1)"
      ]
    },
    {
      "cell_type": "code",
      "execution_count": 125,
      "id": "ac54c0a5",
      "metadata": {
        "colab": {
          "base_uri": "https://localhost:8080/",
          "height": 206
        },
        "id": "ac54c0a5",
        "outputId": "9a2a3ec0-aefe-45a5-d1d9-fcea1487f9e9"
      },
      "outputs": [
        {
          "output_type": "execute_result",
          "data": {
            "text/html": [
              "\n",
              "  <div id=\"df-c1c1b665-22c5-4bbf-9d43-379ec460638d\">\n",
              "    <div class=\"colab-df-container\">\n",
              "      <div>\n",
              "<style scoped>\n",
              "    .dataframe tbody tr th:only-of-type {\n",
              "        vertical-align: middle;\n",
              "    }\n",
              "\n",
              "    .dataframe tbody tr th {\n",
              "        vertical-align: top;\n",
              "    }\n",
              "\n",
              "    .dataframe thead th {\n",
              "        text-align: right;\n",
              "    }\n",
              "</style>\n",
              "<table border=\"1\" class=\"dataframe\">\n",
              "  <thead>\n",
              "    <tr style=\"text-align: right;\">\n",
              "      <th></th>\n",
              "      <th>DateTime</th>\n",
              "      <th>Temperature</th>\n",
              "      <th>Humidity</th>\n",
              "      <th>Pressure</th>\n",
              "      <th>CloudCover</th>\n",
              "      <th>Wind Speed</th>\n",
              "      <th>General_diffuse_flows</th>\n",
              "      <th>Diffuse_flows</th>\n",
              "      <th>Total_Power_Consumption</th>\n",
              "    </tr>\n",
              "  </thead>\n",
              "  <tbody>\n",
              "    <tr>\n",
              "      <th>0</th>\n",
              "      <td>2017-01-01 00:00:00</td>\n",
              "      <td>6.559</td>\n",
              "      <td>73.8</td>\n",
              "      <td>1016.91</td>\n",
              "      <td>0.23</td>\n",
              "      <td>0.083</td>\n",
              "      <td>0.051</td>\n",
              "      <td>0.119</td>\n",
              "      <td>70425.53544</td>\n",
              "    </tr>\n",
              "    <tr>\n",
              "      <th>1</th>\n",
              "      <td>2017-01-01 00:10:00</td>\n",
              "      <td>6.414</td>\n",
              "      <td>74.5</td>\n",
              "      <td>1016.91</td>\n",
              "      <td>0.23</td>\n",
              "      <td>0.083</td>\n",
              "      <td>0.070</td>\n",
              "      <td>0.085</td>\n",
              "      <td>69320.84387</td>\n",
              "    </tr>\n",
              "    <tr>\n",
              "      <th>2</th>\n",
              "      <td>2017-01-01 00:20:00</td>\n",
              "      <td>6.313</td>\n",
              "      <td>74.5</td>\n",
              "      <td>1016.91</td>\n",
              "      <td>0.23</td>\n",
              "      <td>0.080</td>\n",
              "      <td>0.062</td>\n",
              "      <td>0.100</td>\n",
              "      <td>67803.22193</td>\n",
              "    </tr>\n",
              "    <tr>\n",
              "      <th>3</th>\n",
              "      <td>2017-01-01 00:30:00</td>\n",
              "      <td>6.121</td>\n",
              "      <td>75.0</td>\n",
              "      <td>1016.91</td>\n",
              "      <td>0.23</td>\n",
              "      <td>0.083</td>\n",
              "      <td>0.091</td>\n",
              "      <td>0.096</td>\n",
              "      <td>65489.23209</td>\n",
              "    </tr>\n",
              "    <tr>\n",
              "      <th>4</th>\n",
              "      <td>2017-01-01 00:40:00</td>\n",
              "      <td>5.921</td>\n",
              "      <td>75.7</td>\n",
              "      <td>1016.91</td>\n",
              "      <td>0.23</td>\n",
              "      <td>0.081</td>\n",
              "      <td>0.048</td>\n",
              "      <td>0.085</td>\n",
              "      <td>63650.44627</td>\n",
              "    </tr>\n",
              "  </tbody>\n",
              "</table>\n",
              "</div>\n",
              "      <button class=\"colab-df-convert\" onclick=\"convertToInteractive('df-c1c1b665-22c5-4bbf-9d43-379ec460638d')\"\n",
              "              title=\"Convert this dataframe to an interactive table.\"\n",
              "              style=\"display:none;\">\n",
              "        \n",
              "  <svg xmlns=\"http://www.w3.org/2000/svg\" height=\"24px\"viewBox=\"0 0 24 24\"\n",
              "       width=\"24px\">\n",
              "    <path d=\"M0 0h24v24H0V0z\" fill=\"none\"/>\n",
              "    <path d=\"M18.56 5.44l.94 2.06.94-2.06 2.06-.94-2.06-.94-.94-2.06-.94 2.06-2.06.94zm-11 1L8.5 8.5l.94-2.06 2.06-.94-2.06-.94L8.5 2.5l-.94 2.06-2.06.94zm10 10l.94 2.06.94-2.06 2.06-.94-2.06-.94-.94-2.06-.94 2.06-2.06.94z\"/><path d=\"M17.41 7.96l-1.37-1.37c-.4-.4-.92-.59-1.43-.59-.52 0-1.04.2-1.43.59L10.3 9.45l-7.72 7.72c-.78.78-.78 2.05 0 2.83L4 21.41c.39.39.9.59 1.41.59.51 0 1.02-.2 1.41-.59l7.78-7.78 2.81-2.81c.8-.78.8-2.07 0-2.86zM5.41 20L4 18.59l7.72-7.72 1.47 1.35L5.41 20z\"/>\n",
              "  </svg>\n",
              "      </button>\n",
              "      \n",
              "  <style>\n",
              "    .colab-df-container {\n",
              "      display:flex;\n",
              "      flex-wrap:wrap;\n",
              "      gap: 12px;\n",
              "    }\n",
              "\n",
              "    .colab-df-convert {\n",
              "      background-color: #E8F0FE;\n",
              "      border: none;\n",
              "      border-radius: 50%;\n",
              "      cursor: pointer;\n",
              "      display: none;\n",
              "      fill: #1967D2;\n",
              "      height: 32px;\n",
              "      padding: 0 0 0 0;\n",
              "      width: 32px;\n",
              "    }\n",
              "\n",
              "    .colab-df-convert:hover {\n",
              "      background-color: #E2EBFA;\n",
              "      box-shadow: 0px 1px 2px rgba(60, 64, 67, 0.3), 0px 1px 3px 1px rgba(60, 64, 67, 0.15);\n",
              "      fill: #174EA6;\n",
              "    }\n",
              "\n",
              "    [theme=dark] .colab-df-convert {\n",
              "      background-color: #3B4455;\n",
              "      fill: #D2E3FC;\n",
              "    }\n",
              "\n",
              "    [theme=dark] .colab-df-convert:hover {\n",
              "      background-color: #434B5C;\n",
              "      box-shadow: 0px 1px 3px 1px rgba(0, 0, 0, 0.15);\n",
              "      filter: drop-shadow(0px 1px 2px rgba(0, 0, 0, 0.3));\n",
              "      fill: #FFFFFF;\n",
              "    }\n",
              "  </style>\n",
              "\n",
              "      <script>\n",
              "        const buttonEl =\n",
              "          document.querySelector('#df-c1c1b665-22c5-4bbf-9d43-379ec460638d button.colab-df-convert');\n",
              "        buttonEl.style.display =\n",
              "          google.colab.kernel.accessAllowed ? 'block' : 'none';\n",
              "\n",
              "        async function convertToInteractive(key) {\n",
              "          const element = document.querySelector('#df-c1c1b665-22c5-4bbf-9d43-379ec460638d');\n",
              "          const dataTable =\n",
              "            await google.colab.kernel.invokeFunction('convertToInteractive',\n",
              "                                                     [key], {});\n",
              "          if (!dataTable) return;\n",
              "\n",
              "          const docLinkHtml = 'Like what you see? Visit the ' +\n",
              "            '<a target=\"_blank\" href=https://colab.research.google.com/notebooks/data_table.ipynb>data table notebook</a>'\n",
              "            + ' to learn more about interactive tables.';\n",
              "          element.innerHTML = '';\n",
              "          dataTable['output_type'] = 'display_data';\n",
              "          await google.colab.output.renderOutput(dataTable, element);\n",
              "          const docLink = document.createElement('div');\n",
              "          docLink.innerHTML = docLinkHtml;\n",
              "          element.appendChild(docLink);\n",
              "        }\n",
              "      </script>\n",
              "    </div>\n",
              "  </div>\n",
              "  "
            ],
            "text/plain": [
              "              DateTime  Temperature  ...  Diffuse_flows  Total_Power_Consumption\n",
              "0  2017-01-01 00:00:00        6.559  ...          0.119              70425.53544\n",
              "1  2017-01-01 00:10:00        6.414  ...          0.085              69320.84387\n",
              "2  2017-01-01 00:20:00        6.313  ...          0.100              67803.22193\n",
              "3  2017-01-01 00:30:00        6.121  ...          0.096              65489.23209\n",
              "4  2017-01-01 00:40:00        5.921  ...          0.085              63650.44627\n",
              "\n",
              "[5 rows x 9 columns]"
            ]
          },
          "metadata": {},
          "execution_count": 125
        }
      ],
      "source": [
        "df.head()"
      ]
    },
    {
      "cell_type": "code",
      "execution_count": 126,
      "id": "31d6779b",
      "metadata": {
        "colab": {
          "base_uri": "https://localhost:8080/"
        },
        "id": "31d6779b",
        "outputId": "9d1bd941-cad6-46ed-9e77-f3b201501048"
      },
      "outputs": [
        {
          "output_type": "execute_result",
          "data": {
            "text/plain": [
              "(2000, 9)"
            ]
          },
          "metadata": {},
          "execution_count": 126
        }
      ],
      "source": [
        "df.shape"
      ]
    },
    {
      "cell_type": "markdown",
      "id": "73dbfd6a",
      "metadata": {
        "id": "73dbfd6a"
      },
      "source": [
        "### 2.3.Feature Reduction"
      ]
    },
    {
      "cell_type": "code",
      "execution_count": 127,
      "id": "ad3b5d8a",
      "metadata": {
        "id": "ad3b5d8a"
      },
      "outputs": [],
      "source": [
        "df=df.drop([\"DateTime\"],axis=1)"
      ]
    },
    {
      "cell_type": "code",
      "execution_count": 128,
      "id": "45371961",
      "metadata": {
        "colab": {
          "base_uri": "https://localhost:8080/",
          "height": 206
        },
        "id": "45371961",
        "outputId": "65e3495a-d1d8-40ce-b2fa-94512e86b02c"
      },
      "outputs": [
        {
          "output_type": "execute_result",
          "data": {
            "text/html": [
              "\n",
              "  <div id=\"df-632ea4ed-0bda-4cfe-938a-70b68ce6fd3f\">\n",
              "    <div class=\"colab-df-container\">\n",
              "      <div>\n",
              "<style scoped>\n",
              "    .dataframe tbody tr th:only-of-type {\n",
              "        vertical-align: middle;\n",
              "    }\n",
              "\n",
              "    .dataframe tbody tr th {\n",
              "        vertical-align: top;\n",
              "    }\n",
              "\n",
              "    .dataframe thead th {\n",
              "        text-align: right;\n",
              "    }\n",
              "</style>\n",
              "<table border=\"1\" class=\"dataframe\">\n",
              "  <thead>\n",
              "    <tr style=\"text-align: right;\">\n",
              "      <th></th>\n",
              "      <th>Temperature</th>\n",
              "      <th>Humidity</th>\n",
              "      <th>Pressure</th>\n",
              "      <th>CloudCover</th>\n",
              "      <th>Wind Speed</th>\n",
              "      <th>General_diffuse_flows</th>\n",
              "      <th>Diffuse_flows</th>\n",
              "      <th>Total_Power_Consumption</th>\n",
              "    </tr>\n",
              "  </thead>\n",
              "  <tbody>\n",
              "    <tr>\n",
              "      <th>0</th>\n",
              "      <td>6.559</td>\n",
              "      <td>73.8</td>\n",
              "      <td>1016.91</td>\n",
              "      <td>0.23</td>\n",
              "      <td>0.083</td>\n",
              "      <td>0.051</td>\n",
              "      <td>0.119</td>\n",
              "      <td>70425.53544</td>\n",
              "    </tr>\n",
              "    <tr>\n",
              "      <th>1</th>\n",
              "      <td>6.414</td>\n",
              "      <td>74.5</td>\n",
              "      <td>1016.91</td>\n",
              "      <td>0.23</td>\n",
              "      <td>0.083</td>\n",
              "      <td>0.070</td>\n",
              "      <td>0.085</td>\n",
              "      <td>69320.84387</td>\n",
              "    </tr>\n",
              "    <tr>\n",
              "      <th>2</th>\n",
              "      <td>6.313</td>\n",
              "      <td>74.5</td>\n",
              "      <td>1016.91</td>\n",
              "      <td>0.23</td>\n",
              "      <td>0.080</td>\n",
              "      <td>0.062</td>\n",
              "      <td>0.100</td>\n",
              "      <td>67803.22193</td>\n",
              "    </tr>\n",
              "    <tr>\n",
              "      <th>3</th>\n",
              "      <td>6.121</td>\n",
              "      <td>75.0</td>\n",
              "      <td>1016.91</td>\n",
              "      <td>0.23</td>\n",
              "      <td>0.083</td>\n",
              "      <td>0.091</td>\n",
              "      <td>0.096</td>\n",
              "      <td>65489.23209</td>\n",
              "    </tr>\n",
              "    <tr>\n",
              "      <th>4</th>\n",
              "      <td>5.921</td>\n",
              "      <td>75.7</td>\n",
              "      <td>1016.91</td>\n",
              "      <td>0.23</td>\n",
              "      <td>0.081</td>\n",
              "      <td>0.048</td>\n",
              "      <td>0.085</td>\n",
              "      <td>63650.44627</td>\n",
              "    </tr>\n",
              "  </tbody>\n",
              "</table>\n",
              "</div>\n",
              "      <button class=\"colab-df-convert\" onclick=\"convertToInteractive('df-632ea4ed-0bda-4cfe-938a-70b68ce6fd3f')\"\n",
              "              title=\"Convert this dataframe to an interactive table.\"\n",
              "              style=\"display:none;\">\n",
              "        \n",
              "  <svg xmlns=\"http://www.w3.org/2000/svg\" height=\"24px\"viewBox=\"0 0 24 24\"\n",
              "       width=\"24px\">\n",
              "    <path d=\"M0 0h24v24H0V0z\" fill=\"none\"/>\n",
              "    <path d=\"M18.56 5.44l.94 2.06.94-2.06 2.06-.94-2.06-.94-.94-2.06-.94 2.06-2.06.94zm-11 1L8.5 8.5l.94-2.06 2.06-.94-2.06-.94L8.5 2.5l-.94 2.06-2.06.94zm10 10l.94 2.06.94-2.06 2.06-.94-2.06-.94-.94-2.06-.94 2.06-2.06.94z\"/><path d=\"M17.41 7.96l-1.37-1.37c-.4-.4-.92-.59-1.43-.59-.52 0-1.04.2-1.43.59L10.3 9.45l-7.72 7.72c-.78.78-.78 2.05 0 2.83L4 21.41c.39.39.9.59 1.41.59.51 0 1.02-.2 1.41-.59l7.78-7.78 2.81-2.81c.8-.78.8-2.07 0-2.86zM5.41 20L4 18.59l7.72-7.72 1.47 1.35L5.41 20z\"/>\n",
              "  </svg>\n",
              "      </button>\n",
              "      \n",
              "  <style>\n",
              "    .colab-df-container {\n",
              "      display:flex;\n",
              "      flex-wrap:wrap;\n",
              "      gap: 12px;\n",
              "    }\n",
              "\n",
              "    .colab-df-convert {\n",
              "      background-color: #E8F0FE;\n",
              "      border: none;\n",
              "      border-radius: 50%;\n",
              "      cursor: pointer;\n",
              "      display: none;\n",
              "      fill: #1967D2;\n",
              "      height: 32px;\n",
              "      padding: 0 0 0 0;\n",
              "      width: 32px;\n",
              "    }\n",
              "\n",
              "    .colab-df-convert:hover {\n",
              "      background-color: #E2EBFA;\n",
              "      box-shadow: 0px 1px 2px rgba(60, 64, 67, 0.3), 0px 1px 3px 1px rgba(60, 64, 67, 0.15);\n",
              "      fill: #174EA6;\n",
              "    }\n",
              "\n",
              "    [theme=dark] .colab-df-convert {\n",
              "      background-color: #3B4455;\n",
              "      fill: #D2E3FC;\n",
              "    }\n",
              "\n",
              "    [theme=dark] .colab-df-convert:hover {\n",
              "      background-color: #434B5C;\n",
              "      box-shadow: 0px 1px 3px 1px rgba(0, 0, 0, 0.15);\n",
              "      filter: drop-shadow(0px 1px 2px rgba(0, 0, 0, 0.3));\n",
              "      fill: #FFFFFF;\n",
              "    }\n",
              "  </style>\n",
              "\n",
              "      <script>\n",
              "        const buttonEl =\n",
              "          document.querySelector('#df-632ea4ed-0bda-4cfe-938a-70b68ce6fd3f button.colab-df-convert');\n",
              "        buttonEl.style.display =\n",
              "          google.colab.kernel.accessAllowed ? 'block' : 'none';\n",
              "\n",
              "        async function convertToInteractive(key) {\n",
              "          const element = document.querySelector('#df-632ea4ed-0bda-4cfe-938a-70b68ce6fd3f');\n",
              "          const dataTable =\n",
              "            await google.colab.kernel.invokeFunction('convertToInteractive',\n",
              "                                                     [key], {});\n",
              "          if (!dataTable) return;\n",
              "\n",
              "          const docLinkHtml = 'Like what you see? Visit the ' +\n",
              "            '<a target=\"_blank\" href=https://colab.research.google.com/notebooks/data_table.ipynb>data table notebook</a>'\n",
              "            + ' to learn more about interactive tables.';\n",
              "          element.innerHTML = '';\n",
              "          dataTable['output_type'] = 'display_data';\n",
              "          await google.colab.output.renderOutput(dataTable, element);\n",
              "          const docLink = document.createElement('div');\n",
              "          docLink.innerHTML = docLinkHtml;\n",
              "          element.appendChild(docLink);\n",
              "        }\n",
              "      </script>\n",
              "    </div>\n",
              "  </div>\n",
              "  "
            ],
            "text/plain": [
              "   Temperature  Humidity  ...  Diffuse_flows  Total_Power_Consumption\n",
              "0        6.559      73.8  ...          0.119              70425.53544\n",
              "1        6.414      74.5  ...          0.085              69320.84387\n",
              "2        6.313      74.5  ...          0.100              67803.22193\n",
              "3        6.121      75.0  ...          0.096              65489.23209\n",
              "4        5.921      75.7  ...          0.085              63650.44627\n",
              "\n",
              "[5 rows x 8 columns]"
            ]
          },
          "metadata": {},
          "execution_count": 128
        }
      ],
      "source": [
        "df.head()"
      ]
    },
    {
      "cell_type": "code",
      "execution_count": 129,
      "id": "c6213e27",
      "metadata": {
        "colab": {
          "base_uri": "https://localhost:8080/"
        },
        "id": "c6213e27",
        "outputId": "fec9e3fc-4be4-4ec6-f2ca-2154a5ae45b6"
      },
      "outputs": [
        {
          "output_type": "execute_result",
          "data": {
            "text/plain": [
              "Index(['Temperature', 'Humidity', 'Pressure', 'CloudCover', 'Wind Speed',\n",
              "       'General_diffuse_flows', 'Diffuse_flows', 'Total_Power_Consumption'],\n",
              "      dtype='object')"
            ]
          },
          "metadata": {},
          "execution_count": 129
        }
      ],
      "source": [
        "df.columns"
      ]
    },
    {
      "cell_type": "markdown",
      "id": "75a67a2d",
      "metadata": {
        "id": "75a67a2d"
      },
      "source": [
        "### 2.4. Outlier detection and handling"
      ]
    },
    {
      "cell_type": "code",
      "execution_count": 130,
      "id": "eaddffa6",
      "metadata": {
        "colab": {
          "base_uri": "https://localhost:8080/",
          "height": 1000
        },
        "id": "eaddffa6",
        "outputId": "1f61c2d3-37d7-4df4-d262-77bfe0023fe9"
      },
      "outputs": [
        {
          "output_type": "display_data",
          "data": {
            "image/png": "[encoded data removed]",
            "text/plain": [
              "<Figure size 432x288 with 1 Axes>"
            ]
          },
          "metadata": {
            "needs_background": "light"
          }
        },
        {
          "output_type": "display_data",
          "data": {
            "image/png": "[encoded data removed]",
            "text/plain": [
              "<Figure size 432x288 with 1 Axes>"
            ]
          },
          "metadata": {
            "needs_background": "light"
          }
        },
        {
          "output_type": "display_data",
          "data": {
            "image/png": "[encoded data removed]",
            "text/plain": [
              "<Figure size 432x288 with 1 Axes>"
            ]
          },
          "metadata": {
            "needs_background": "light"
          }
        },
        {
          "output_type": "display_data",
          "data": {
            "image/png": "[encoded data removed]",
            "text/plain": [
              "<Figure size 432x288 with 1 Axes>"
            ]
          },
          "metadata": {
            "needs_background": "light"
          }
        },
        {
          "output_type": "display_data",
          "data": {
            "image/png": "[encoded data removed]",
            "text/plain": [
              "<Figure size 432x288 with 1 Axes>"
            ]
          },
          "metadata": {
            "needs_background": "light"
          }
        },
        {
          "output_type": "display_data",
          "data": {
            "image/png": "[encoded data removed]",
            "text/plain": [
              "<Figure size 432x288 with 1 Axes>"
            ]
          },
          "metadata": {
            "needs_background": "light"
          }
        },
        {
          "output_type": "display_data",
          "data": {
            "image/png": "[encoded data removed]",
            "text/plain": [
              "<Figure size 432x288 with 1 Axes>"
            ]
          },
          "metadata": {
            "needs_background": "light"
          }
        }
      ],
      "source": [
        "#checking for outliers\n",
        "for i in ['Temperature', 'Humidity', 'Pressure', 'CloudCover', 'Wind Speed','General_diffuse_flows', 'Diffuse_flows']:\n",
        "    sns.boxplot(x=df[i])\n",
        "    plt.show()"
      ]
    },
    {
      "cell_type": "code",
      "execution_count": 131,
      "id": "8ac4f72f",
      "metadata": {
        "colab": {
          "base_uri": "https://localhost:8080/"
        },
        "id": "8ac4f72f",
        "outputId": "e3e10f64-b999-4d6d-9f2d-5c9a4d6669de"
      },
      "outputs": [
        {
          "output_type": "stream",
          "name": "stdout",
          "text": [
            "66.39500000000001\n",
            "74.1\n",
            "80.1\n"
          ]
        }
      ],
      "source": [
        "#finding different quartile values of Humidity\n",
        "Q1= np.percentile(df[\"Humidity\"],25,interpolation=\"midpoint\")\n",
        "Q2= np.percentile(df[\"Humidity\"],50,interpolation=\"midpoint\")\n",
        "Q3= np.percentile(df[\"Humidity\"],75,interpolation=\"midpoint\")\n",
        "print(Q1)\n",
        "print(Q2)\n",
        "print(Q3)"
      ]
    },
    {
      "cell_type": "code",
      "execution_count": 132,
      "id": "5a3158f8",
      "metadata": {
        "colab": {
          "base_uri": "https://localhost:8080/"
        },
        "id": "5a3158f8",
        "outputId": "1961ec7f-0b57-4b08-9d3a-0bd940e41a21"
      },
      "outputs": [
        {
          "output_type": "stream",
          "name": "stdout",
          "text": [
            "45.837500000000034\n",
            "100.65749999999997\n"
          ]
        }
      ],
      "source": [
        "#finding IQR\n",
        "IQR= Q3-Q1\n",
        "IQR\n",
        "#finding lowe limit & upper limit\n",
        "low_lim=Q1-1.5*IQR\n",
        "up_lim=Q3+1.5*IQR\n",
        "print(low_lim)\n",
        "print(up_lim)"
      ]
    },
    {
      "cell_type": "code",
      "execution_count": 133,
      "id": "2f0ba258",
      "metadata": {
        "id": "2f0ba258"
      },
      "outputs": [],
      "source": [
        "#removing all the value below low limit& above upper limt\n",
        "outlier=[]\n",
        "for x in df[\"Humidity\"]:\n",
        "    if((x>up_lim) or(x<low_lim)):\n",
        "        outlier.append(x)"
      ]
    },
    {
      "cell_type": "code",
      "execution_count": 134,
      "id": "fd06d4ad",
      "metadata": {
        "colab": {
          "base_uri": "https://localhost:8080/"
        },
        "id": "fd06d4ad",
        "outputId": "23c03bad-383f-42ce-91ef-0e14a0f7e338"
      },
      "outputs": [
        {
          "output_type": "execute_result",
          "data": {
            "text/plain": [
              "[44.6,\n",
              " 44.74,\n",
              " 44.77,\n",
              " 45.04,\n",
              " 44.17,\n",
              " 44.84,\n",
              " 45.61,\n",
              " 45.74,\n",
              " 45.14,\n",
              " 44.84,\n",
              " 45.8,\n",
              " 45.37,\n",
              " 45.0,\n",
              " 45.33,\n",
              " 45.56,\n",
              " 45.36,\n",
              " 45.39,\n",
              " 45.26,\n",
              " 41.89,\n",
              " 43.79]"
            ]
          },
          "metadata": {},
          "execution_count": 134
        }
      ],
      "source": [
        "outlier"
      ]
    },
    {
      "cell_type": "code",
      "execution_count": 135,
      "id": "86064568",
      "metadata": {
        "id": "86064568"
      },
      "outputs": [],
      "source": [
        "#finding index of this outliers & droping\n",
        "index=df[\"Humidity\"][(df[\"Humidity\"]<low_lim)|(df[\"Humidity\"]>up_lim)].index\n",
        "df.drop(index,inplace=True)"
      ]
    },
    {
      "cell_type": "code",
      "execution_count": 136,
      "id": "24050d69",
      "metadata": {
        "colab": {
          "base_uri": "https://localhost:8080/",
          "height": 296
        },
        "id": "24050d69",
        "outputId": "c5503a06-bc48-4602-e1f2-5fd5681ecaac"
      },
      "outputs": [
        {
          "output_type": "execute_result",
          "data": {
            "text/plain": [
              "<matplotlib.axes._subplots.AxesSubplot at 0x7fef715de8d0>"
            ]
          },
          "metadata": {},
          "execution_count": 136
        },
        {
          "output_type": "display_data",
          "data": {
            "image/png": "[encoded data removed]",
            "text/plain": [
              "<Figure size 432x288 with 1 Axes>"
            ]
          },
          "metadata": {
            "needs_background": "light"
          }
        }
      ],
      "source": [
        " sns.boxplot(x=df[\"Humidity\"])"
      ]
    },
    {
      "cell_type": "code",
      "execution_count": 137,
      "id": "c4f102a2",
      "metadata": {
        "colab": {
          "base_uri": "https://localhost:8080/"
        },
        "id": "c4f102a2",
        "outputId": "0865c60f-a575-4545-d1c9-d142c0b761f6"
      },
      "outputs": [
        {
          "output_type": "stream",
          "name": "stdout",
          "text": [
            "0.075\n",
            "0.079\n",
            "0.085\n"
          ]
        }
      ],
      "source": [
        "#finding different quartile values of Wind Speed\n",
        "Q1= np.percentile(df[\"Wind Speed\"],25,interpolation=\"midpoint\")\n",
        "Q2= np.percentile(df[\"Wind Speed\"],50,interpolation=\"midpoint\")\n",
        "Q3= np.percentile(df[\"Wind Speed\"],75,interpolation=\"midpoint\")\n",
        "print(Q1)\n",
        "print(Q2)\n",
        "print(Q3)"
      ]
    },
    {
      "cell_type": "code",
      "execution_count": 138,
      "id": "aee208ce",
      "metadata": {
        "colab": {
          "base_uri": "https://localhost:8080/"
        },
        "id": "aee208ce",
        "outputId": "335142aa-e03e-481f-d4e8-90e9702480ec"
      },
      "outputs": [
        {
          "output_type": "stream",
          "name": "stdout",
          "text": [
            "0.059999999999999984\n",
            "0.10000000000000002\n"
          ]
        }
      ],
      "source": [
        "#finding IQR\n",
        "IQR= Q3-Q1\n",
        "IQR\n",
        "#finding lowe limit & upper limit\n",
        "low_lim=Q1-1.5*IQR\n",
        "up_lim=Q3+1.5*IQR\n",
        "print(low_lim)\n",
        "print(up_lim)"
      ]
    },
    {
      "cell_type": "code",
      "execution_count": 139,
      "id": "848fecfd",
      "metadata": {
        "id": "848fecfd"
      },
      "outputs": [],
      "source": [
        "#removing all the value below low limit& above upper limt\n",
        "outlier=[]\n",
        "for x in df[\"Wind Speed\"]:\n",
        "    if((x>up_lim) or(x<low_lim)):\n",
        "        outlier.append(x)"
      ]
    },
    {
      "cell_type": "code",
      "execution_count": 140,
      "id": "86adf192",
      "metadata": {
        "colab": {
          "base_uri": "https://localhost:8080/"
        },
        "id": "86adf192",
        "outputId": "5697fe8d-6bda-40c1-c0f2-836999de41c1"
      },
      "outputs": [
        {
          "output_type": "execute_result",
          "data": {
            "text/plain": [
              "[2.66,\n",
              " 4.93,\n",
              " 4.924,\n",
              " 4.923,\n",
              " 4.918,\n",
              " 4.916,\n",
              " 4.916,\n",
              " 2.451,\n",
              " 2.287,\n",
              " 4.708,\n",
              " 1.97,\n",
              " 0.14,\n",
              " 0.106]"
            ]
          },
          "metadata": {},
          "execution_count": 140
        }
      ],
      "source": [
        "outlier"
      ]
    },
    {
      "cell_type": "code",
      "execution_count": 141,
      "id": "707a3017",
      "metadata": {
        "id": "707a3017"
      },
      "outputs": [],
      "source": [
        "#finding index of this outliers & droping\n",
        "index=df[\"Wind Speed\"][(df[\"Wind Speed\"]<low_lim)|(df[\"Wind Speed\"]>up_lim)].index\n",
        "df.drop(index,inplace=True)"
      ]
    },
    {
      "cell_type": "code",
      "execution_count": 142,
      "id": "c788157f",
      "metadata": {
        "colab": {
          "base_uri": "https://localhost:8080/",
          "height": 296
        },
        "id": "c788157f",
        "outputId": "15471f10-bfb2-4b7b-a601-96c5bf5e25e6"
      },
      "outputs": [
        {
          "output_type": "execute_result",
          "data": {
            "text/plain": [
              "<matplotlib.axes._subplots.AxesSubplot at 0x7fef630c2b50>"
            ]
          },
          "metadata": {},
          "execution_count": 142
        },
        {
          "output_type": "display_data",
          "data": {
            "image/png": "[encoded data removed]",
            "text/plain": [
              "<Figure size 432x288 with 1 Axes>"
            ]
          },
          "metadata": {
            "needs_background": "light"
          }
        }
      ],
      "source": [
        "sns.boxplot(x=df[\"Wind Speed\"])"
      ]
    },
    {
      "cell_type": "code",
      "execution_count": 143,
      "id": "86018a50",
      "metadata": {
        "colab": {
          "base_uri": "https://localhost:8080/"
        },
        "id": "86018a50",
        "outputId": "4657c3f5-21c0-4194-fe97-0b987798253d"
      },
      "outputs": [
        {
          "output_type": "stream",
          "name": "stdout",
          "text": [
            "0.059\n",
            "0.084\n",
            "165.65\n"
          ]
        }
      ],
      "source": [
        "#finding different quartile values of General_diffuse_flows\n",
        "Q1= np.percentile(df[\"General_diffuse_flows\"],25,interpolation=\"midpoint\")\n",
        "Q2= np.percentile(df[\"General_diffuse_flows\"],50,interpolation=\"midpoint\")\n",
        "Q3= np.percentile(df[\"General_diffuse_flows\"],75,interpolation=\"midpoint\")\n",
        "print(Q1)\n",
        "print(Q2)\n",
        "print(Q3)"
      ]
    },
    {
      "cell_type": "code",
      "execution_count": 144,
      "id": "fdd83b09",
      "metadata": {
        "colab": {
          "base_uri": "https://localhost:8080/"
        },
        "id": "fdd83b09",
        "outputId": "26f0b09c-72e7-4a21-dc29-f5b1c4854c59"
      },
      "outputs": [
        {
          "output_type": "stream",
          "name": "stdout",
          "text": [
            "-248.32750000000001\n",
            "414.03650000000005\n"
          ]
        }
      ],
      "source": [
        "#finding IQR\n",
        "IQR= Q3-Q1\n",
        "IQR\n",
        "#finding lowe limit & upper limit\n",
        "low_lim=Q1-1.5*IQR\n",
        "up_lim=Q3+1.5*IQR\n",
        "print(low_lim)\n",
        "print(up_lim)"
      ]
    },
    {
      "cell_type": "code",
      "execution_count": 145,
      "id": "3aaff256",
      "metadata": {
        "id": "3aaff256"
      },
      "outputs": [],
      "source": [
        "#removing all the value below low limit& above upper limt\n",
        "outlier=[]\n",
        "for x in df[\"General_diffuse_flows\"]:\n",
        "    if((x>up_lim) or(x<low_lim)):\n",
        "        outlier.append(x)"
      ]
    },
    {
      "cell_type": "code",
      "execution_count": 146,
      "id": "454e2a81",
      "metadata": {
        "colab": {
          "base_uri": "https://localhost:8080/"
        },
        "id": "454e2a81",
        "outputId": "8d1f410e-45b1-475e-9548-4d16bf262dce"
      },
      "outputs": [
        {
          "output_type": "execute_result",
          "data": {
            "text/plain": [
              "[419.5,\n",
              " 430.9,\n",
              " 437.5,\n",
              " 450.4,\n",
              " 470.5,\n",
              " 480.0,\n",
              " 486.1,\n",
              " 490.2,\n",
              " 495.9,\n",
              " 498.1,\n",
              " 498.1,\n",
              " 498.8,\n",
              " 497.0,\n",
              " 489.2,\n",
              " 482.4,\n",
              " 476.1,\n",
              " 467.7,\n",
              " 456.1,\n",
              " 449.2,\n",
              " 437.4,\n",
              " 422.0,\n",
              " 425.6,\n",
              " 440.2,\n",
              " 452.5,\n",
              " 460.5,\n",
              " 469.9,\n",
              " 476.2,\n",
              " 482.3,\n",
              " 485.1,\n",
              " 487.1,\n",
              " 487.6,\n",
              " 486.9,\n",
              " 484.1,\n",
              " 481.1,\n",
              " 477.2,\n",
              " 470.9,\n",
              " 463.4,\n",
              " 451.8,\n",
              " 441.9,\n",
              " 427.9,\n",
              " 428.2,\n",
              " 440.5,\n",
              " 452.5,\n",
              " 462.8,\n",
              " 470.7,\n",
              " 478.0,\n",
              " 484.0,\n",
              " 488.8,\n",
              " 492.7,\n",
              " 493.3,\n",
              " 491.9,\n",
              " 490.1,\n",
              " 487.1,\n",
              " 480.4,\n",
              " 472.9,\n",
              " 465.8,\n",
              " 455.2,\n",
              " 443.9,\n",
              " 430.9,\n",
              " 415.4,\n",
              " 420.1,\n",
              " 436.2,\n",
              " 451.6,\n",
              " 466.4,\n",
              " 477.0,\n",
              " 485.7,\n",
              " 492.7,\n",
              " 499.7,\n",
              " 503.9,\n",
              " 505.9,\n",
              " 508.4,\n",
              " 506.6,\n",
              " 503.5,\n",
              " 501.0,\n",
              " 486.7,\n",
              " 485.9,\n",
              " 468.6,\n",
              " 458.1,\n",
              " 448.2,\n",
              " 430.7,\n",
              " 418.2,\n",
              " 419.3,\n",
              " 433.4,\n",
              " 447.5,\n",
              " 459.9,\n",
              " 468.9,\n",
              " 479.2,\n",
              " 483.6,\n",
              " 488.2,\n",
              " 492.2,\n",
              " 494.6,\n",
              " 495.7,\n",
              " 494.3,\n",
              " 494.8,\n",
              " 473.2,\n",
              " 480.6,\n",
              " 470.4,\n",
              " 463.8,\n",
              " 452.8,\n",
              " 441.8,\n",
              " 429.9,\n",
              " 416.0,\n",
              " 429.1,\n",
              " 444.5,\n",
              " 454.8,\n",
              " 462.5,\n",
              " 420.5,\n",
              " 417.0,\n",
              " 419.7,\n",
              " 490.9,\n",
              " 491.0,\n",
              " 452.4,\n",
              " 574.0,\n",
              " 504.7,\n",
              " 441.5,\n",
              " 460.0,\n",
              " 462.5,\n",
              " 493.4,\n",
              " 510.1,\n",
              " 498.4,\n",
              " 486.8,\n",
              " 426.8,\n",
              " 416.0,\n",
              " 420.7,\n",
              " 473.1,\n",
              " 450.4,\n",
              " 414.6,\n",
              " 488.5,\n",
              " 518.1,\n",
              " 475.0,\n",
              " 521.9,\n",
              " 496.8,\n",
              " 484.2,\n",
              " 484.9,\n",
              " 473.6,\n",
              " 461.8,\n",
              " 458.8,\n",
              " 449.7,\n",
              " 436.7,\n",
              " 418.6,\n",
              " 426.2,\n",
              " 430.2,\n",
              " 438.8,\n",
              " 446.8,\n",
              " 453.3,\n",
              " 457.3,\n",
              " 456.5,\n",
              " 487.1,\n",
              " 499.2,\n",
              " 414.6,\n",
              " 444.5,\n",
              " 577.5,\n",
              " 606.9,\n",
              " 502.4,\n",
              " 634.9,\n",
              " 666.8,\n",
              " 709.0,\n",
              " 466.6,\n",
              " 433.7,\n",
              " 480.0,\n",
              " 439.7,\n",
              " 458.6,\n",
              " 416.2]"
            ]
          },
          "metadata": {},
          "execution_count": 146
        }
      ],
      "source": [
        "outlier"
      ]
    },
    {
      "cell_type": "code",
      "execution_count": 147,
      "id": "1a3943a9",
      "metadata": {
        "id": "1a3943a9"
      },
      "outputs": [],
      "source": [
        "#finding index of this outliers & droping\n",
        "index=df[\"General_diffuse_flows\"][(df[\"General_diffuse_flows\"]<low_lim)|(df[\"General_diffuse_flows\"]>up_lim)].index\n",
        "df.drop(index,inplace=True)"
      ]
    },
    {
      "cell_type": "code",
      "execution_count": 148,
      "id": "996bd095",
      "metadata": {
        "colab": {
          "base_uri": "https://localhost:8080/",
          "height": 297
        },
        "id": "996bd095",
        "outputId": "875d2909-b6c0-4c77-a010-e71bf0ff88c5"
      },
      "outputs": [
        {
          "output_type": "execute_result",
          "data": {
            "text/plain": [
              "<matplotlib.axes._subplots.AxesSubplot at 0x7fef709fef10>"
            ]
          },
          "metadata": {},
          "execution_count": 148
        },
        {
          "output_type": "display_data",
          "data": {
            "image/png": "[encoded data removed]",
            "text/plain": [
              "<Figure size 432x288 with 1 Axes>"
            ]
          },
          "metadata": {
            "needs_background": "light"
          }
        }
      ],
      "source": [
        "sns.boxplot(x=df[\"General_diffuse_flows\"])\n"
      ]
    },
    {
      "cell_type": "code",
      "execution_count": 149,
      "id": "7ec270be",
      "metadata": {
        "colab": {
          "base_uri": "https://localhost:8080/"
        },
        "id": "7ec270be",
        "outputId": "9ab366d2-7ce6-4c8f-8cac-3609c542254b"
      },
      "outputs": [
        {
          "output_type": "stream",
          "name": "stdout",
          "text": [
            "0.122\n",
            "0.152\n",
            "45.155\n"
          ]
        }
      ],
      "source": [
        "#finding different quartile values of Diffuse_flows\n",
        "Q1= np.percentile(df[\"Diffuse_flows\"],25,interpolation=\"midpoint\")\n",
        "Q2= np.percentile(df[\"Diffuse_flows\"],50,interpolation=\"midpoint\")\n",
        "Q3= np.percentile(df[\"Diffuse_flows\"],75,interpolation=\"midpoint\")\n",
        "print(Q1)\n",
        "print(Q2)\n",
        "print(Q3)"
      ]
    },
    {
      "cell_type": "code",
      "execution_count": 150,
      "id": "df695f9f",
      "metadata": {
        "colab": {
          "base_uri": "https://localhost:8080/"
        },
        "id": "df695f9f",
        "outputId": "277c19ae-517e-4b6d-bcc4-59edb6ddfb33"
      },
      "outputs": [
        {
          "output_type": "stream",
          "name": "stdout",
          "text": [
            "-67.4275\n",
            "112.7045\n"
          ]
        }
      ],
      "source": [
        "#finding IQR\n",
        "IQR= Q3-Q1\n",
        "IQR\n",
        "#finding lowe limit & upper limit\n",
        "low_lim=Q1-1.5*IQR\n",
        "up_lim=Q3+1.5*IQR\n",
        "print(low_lim)\n",
        "print(up_lim)"
      ]
    },
    {
      "cell_type": "code",
      "execution_count": 151,
      "id": "d86e3ac5",
      "metadata": {
        "id": "d86e3ac5"
      },
      "outputs": [],
      "source": [
        "#removing all the value below low limit& above upper limt\n",
        "outlier=[]\n",
        "for x in df[\"Diffuse_flows\"]:\n",
        "    if((x>up_lim) or(x<low_lim)):\n",
        "        outlier.append(x)"
      ]
    },
    {
      "cell_type": "code",
      "execution_count": 152,
      "id": "e744a3d9",
      "metadata": {
        "colab": {
          "base_uri": "https://localhost:8080/"
        },
        "id": "e744a3d9",
        "outputId": "d299144d-f9d7-4d2b-b43f-18380663631b"
      },
      "outputs": [
        {
          "output_type": "execute_result",
          "data": {
            "text/plain": [
              "[128.9,\n",
              " 219.1,\n",
              " 246.0,\n",
              " 248.1,\n",
              " 231.6,\n",
              " 211.9,\n",
              " 201.7,\n",
              " 163.0,\n",
              " 144.3,\n",
              " 120.6,\n",
              " 121.3,\n",
              " 184.0,\n",
              " 238.0,\n",
              " 253.4,\n",
              " 248.1,\n",
              " 227.3,\n",
              " 200.6,\n",
              " 175.0,\n",
              " 148.2,\n",
              " 123.7,\n",
              " 155.7,\n",
              " 215.7,\n",
              " 256.6,\n",
              " 257.7,\n",
              " 240.7,\n",
              " 218.7,\n",
              " 193.2,\n",
              " 166.5,\n",
              " 142.4,\n",
              " 121.2,\n",
              " 141.6,\n",
              " 199.9,\n",
              " 254.4,\n",
              " 281.1,\n",
              " 260.8,\n",
              " 249.6,\n",
              " 227.1,\n",
              " 195.4,\n",
              " 165.7,\n",
              " 138.9,\n",
              " 144.8,\n",
              " 161.9,\n",
              " 236.0,\n",
              " 208.6,\n",
              " 195.5,\n",
              " 245.4,\n",
              " 220.1,\n",
              " 208.0,\n",
              " 182.3,\n",
              " 150.3,\n",
              " 115.4,\n",
              " 116.0,\n",
              " 137.7,\n",
              " 151.9,\n",
              " 146.1,\n",
              " 133.6,\n",
              " 138.8,\n",
              " 191.8,\n",
              " 253.7,\n",
              " 202.0,\n",
              " 167.0,\n",
              " 176.0,\n",
              " 197.0,\n",
              " 218.2,\n",
              " 216.5,\n",
              " 202.6,\n",
              " 231.8,\n",
              " 248.8,\n",
              " 284.8,\n",
              " 172.3,\n",
              " 222.0,\n",
              " 271.5,\n",
              " 287.6,\n",
              " 254.7,\n",
              " 226.7,\n",
              " 207.5,\n",
              " 183.2,\n",
              " 169.0,\n",
              " 165.5,\n",
              " 161.1,\n",
              " 158.8,\n",
              " 146.8,\n",
              " 142.8,\n",
              " 144.1,\n",
              " 133.8,\n",
              " 113.6,\n",
              " 134.6,\n",
              " 211.5,\n",
              " 202.3,\n",
              " 199.1,\n",
              " 205.5,\n",
              " 181.4,\n",
              " 201.5,\n",
              " 171.7,\n",
              " 189.4,\n",
              " 194.3,\n",
              " 166.2,\n",
              " 149.8,\n",
              " 138.7,\n",
              " 133.5,\n",
              " 116.6,\n",
              " 122.1,\n",
              " 191.0,\n",
              " 276.7,\n",
              " 299.9,\n",
              " 306.1,\n",
              " 295.5,\n",
              " 272.2,\n",
              " 247.4,\n",
              " 201.6,\n",
              " 132.2,\n",
              " 132.2,\n",
              " 116.2,\n",
              " 117.8,\n",
              " 118.4,\n",
              " 122.5,\n",
              " 125.0,\n",
              " 168.4,\n",
              " 113.7,\n",
              " 167.6,\n",
              " 144.3,\n",
              " 158.0,\n",
              " 131.4,\n",
              " 121.7,\n",
              " 118.9,\n",
              " 142.1,\n",
              " 123.6,\n",
              " 114.3,\n",
              " 142.1,\n",
              " 125.7,\n",
              " 114.7,\n",
              " 118.7,\n",
              " 124.7,\n",
              " 223.2,\n",
              " 210.0,\n",
              " 138.3,\n",
              " 200.8,\n",
              " 139.1,\n",
              " 156.1,\n",
              " 124.9,\n",
              " 242.9,\n",
              " 227.2,\n",
              " 211.4,\n",
              " 178.1,\n",
              " 133.6,\n",
              " 123.1,\n",
              " 120.6,\n",
              " 138.4,\n",
              " 120.3,\n",
              " 171.8,\n",
              " 185.5,\n",
              " 197.1,\n",
              " 206.4,\n",
              " 119.4,\n",
              " 157.2,\n",
              " 249.9,\n",
              " 373.2,\n",
              " 398.3,\n",
              " 306.3,\n",
              " 188.0,\n",
              " 172.0,\n",
              " 223.5,\n",
              " 169.5,\n",
              " 139.4,\n",
              " 150.0,\n",
              " 175.5,\n",
              " 213.7,\n",
              " 129.1,\n",
              " 126.8,\n",
              " 121.4,\n",
              " 158.6,\n",
              " 132.6,\n",
              " 173.7,\n",
              " 190.2,\n",
              " 183.6,\n",
              " 390.6,\n",
              " 401.8,\n",
              " 365.6,\n",
              " 332.7,\n",
              " 159.4,\n",
              " 192.4,\n",
              " 266.8,\n",
              " 195.1,\n",
              " 147.4,\n",
              " 120.1,\n",
              " 117.6,\n",
              " 204.8,\n",
              " 248.3,\n",
              " 238.3,\n",
              " 222.4,\n",
              " 272.7,\n",
              " 130.2,\n",
              " 195.0,\n",
              " 223.8,\n",
              " 223.9,\n",
              " 195.8,\n",
              " 175.4,\n",
              " 190.7,\n",
              " 217.6,\n",
              " 235.6,\n",
              " 227.4,\n",
              " 188.2,\n",
              " 125.2,\n",
              " 221.2,\n",
              " 292.8,\n",
              " 189.0,\n",
              " 204.2,\n",
              " 255.6,\n",
              " 298.9,\n",
              " 276.7,\n",
              " 162.6,\n",
              " 122.9,\n",
              " 126.1,\n",
              " 212.1,\n",
              " 187.6,\n",
              " 179.4,\n",
              " 139.5,\n",
              " 148.8,\n",
              " 146.0,\n",
              " 158.5,\n",
              " 125.1,\n",
              " 135.6,\n",
              " 170.5,\n",
              " 179.1,\n",
              " 184.9,\n",
              " 182.6,\n",
              " 201.2,\n",
              " 197.6,\n",
              " 185.0,\n",
              " 223.2,\n",
              " 234.4,\n",
              " 231.3,\n",
              " 234.4,\n",
              " 241.2,\n",
              " 237.6,\n",
              " 236.9,\n",
              " 255.0,\n",
              " 242.4,\n",
              " 252.2,\n",
              " 254.6,\n",
              " 245.1,\n",
              " 252.0,\n",
              " 254.5,\n",
              " 254.4,\n",
              " 245.2,\n",
              " 213.1,\n",
              " 211.1,\n",
              " 222.0,\n",
              " 243.4,\n",
              " 249.0,\n",
              " 211.9,\n",
              " 174.5,\n",
              " 221.0,\n",
              " 215.0,\n",
              " 140.5,\n",
              " 121.8,\n",
              " 139.5,\n",
              " 116.9,\n",
              " 135.2,\n",
              " 131.8,\n",
              " 154.0,\n",
              " 118.8,\n",
              " 146.1,\n",
              " 118.5,\n",
              " 115.9,\n",
              " 125.5,\n",
              " 152.5,\n",
              " 213.2,\n",
              " 234.2,\n",
              " 192.2,\n",
              " 155.3,\n",
              " 139.0,\n",
              " 144.2,\n",
              " 146.1,\n",
              " 139.8,\n",
              " 148.7,\n",
              " 142.8,\n",
              " 136.1,\n",
              " 123.0,\n",
              " 192.3,\n",
              " 225.7,\n",
              " 284.7,\n",
              " 291.8,\n",
              " 270.1,\n",
              " 402.2,\n",
              " 307.7,\n",
              " 188.9,\n",
              " 169.8,\n",
              " 161.3,\n",
              " 137.6,\n",
              " 144.8,\n",
              " 128.6,\n",
              " 118.2,\n",
              " 114.6,\n",
              " 121.9,\n",
              " 195.7,\n",
              " 139.0]"
            ]
          },
          "metadata": {},
          "execution_count": 152
        }
      ],
      "source": [
        "outlier"
      ]
    },
    {
      "cell_type": "code",
      "execution_count": 153,
      "id": "68c7ecaa",
      "metadata": {
        "id": "68c7ecaa"
      },
      "outputs": [],
      "source": [
        "#finding index of this outliers & droping\n",
        "index=df[\"Diffuse_flows\"][(df[\"Diffuse_flows\"]<low_lim)|(df[\"Diffuse_flows\"]>up_lim)].index\n",
        "df.drop(index,inplace=True)"
      ]
    },
    {
      "cell_type": "code",
      "execution_count": 154,
      "id": "4ad03ce6",
      "metadata": {
        "colab": {
          "base_uri": "https://localhost:8080/",
          "height": 297
        },
        "id": "4ad03ce6",
        "outputId": "12393ea2-6109-49a2-c07e-cc61380fa5d4"
      },
      "outputs": [
        {
          "output_type": "execute_result",
          "data": {
            "text/plain": [
              "<matplotlib.axes._subplots.AxesSubplot at 0x7fef62b0a1d0>"
            ]
          },
          "metadata": {},
          "execution_count": 154
        },
        {
          "output_type": "display_data",
          "data": {
            "image/png": "[encoded data removed]",
            "text/plain": [
              "<Figure size 432x288 with 1 Axes>"
            ]
          },
          "metadata": {
            "needs_background": "light"
          }
        }
      ],
      "source": [
        "sns.boxplot(x=df[\"Diffuse_flows\"])\n"
      ]
    },
    {
      "cell_type": "code",
      "execution_count": 155,
      "id": "5d5871b2",
      "metadata": {
        "colab": {
          "base_uri": "https://localhost:8080/",
          "height": 206
        },
        "id": "5d5871b2",
        "outputId": "db7add62-7156-4ff8-b13b-3c34e2e62c1a"
      },
      "outputs": [
        {
          "output_type": "execute_result",
          "data": {
            "text/html": [
              "\n",
              "  <div id=\"df-78acbf5a-a944-4333-8375-cb35a213d2a6\">\n",
              "    <div class=\"colab-df-container\">\n",
              "      <div>\n",
              "<style scoped>\n",
              "    .dataframe tbody tr th:only-of-type {\n",
              "        vertical-align: middle;\n",
              "    }\n",
              "\n",
              "    .dataframe tbody tr th {\n",
              "        vertical-align: top;\n",
              "    }\n",
              "\n",
              "    .dataframe thead th {\n",
              "        text-align: right;\n",
              "    }\n",
              "</style>\n",
              "<table border=\"1\" class=\"dataframe\">\n",
              "  <thead>\n",
              "    <tr style=\"text-align: right;\">\n",
              "      <th></th>\n",
              "      <th>Temperature</th>\n",
              "      <th>Humidity</th>\n",
              "      <th>Pressure</th>\n",
              "      <th>CloudCover</th>\n",
              "      <th>Wind Speed</th>\n",
              "      <th>General_diffuse_flows</th>\n",
              "      <th>Diffuse_flows</th>\n",
              "      <th>Total_Power_Consumption</th>\n",
              "    </tr>\n",
              "  </thead>\n",
              "  <tbody>\n",
              "    <tr>\n",
              "      <th>0</th>\n",
              "      <td>6.559</td>\n",
              "      <td>73.8</td>\n",
              "      <td>1016.91</td>\n",
              "      <td>0.23</td>\n",
              "      <td>0.083</td>\n",
              "      <td>0.051</td>\n",
              "      <td>0.119</td>\n",
              "      <td>70425.53544</td>\n",
              "    </tr>\n",
              "    <tr>\n",
              "      <th>1</th>\n",
              "      <td>6.414</td>\n",
              "      <td>74.5</td>\n",
              "      <td>1016.91</td>\n",
              "      <td>0.23</td>\n",
              "      <td>0.083</td>\n",
              "      <td>0.070</td>\n",
              "      <td>0.085</td>\n",
              "      <td>69320.84387</td>\n",
              "    </tr>\n",
              "    <tr>\n",
              "      <th>2</th>\n",
              "      <td>6.313</td>\n",
              "      <td>74.5</td>\n",
              "      <td>1016.91</td>\n",
              "      <td>0.23</td>\n",
              "      <td>0.080</td>\n",
              "      <td>0.062</td>\n",
              "      <td>0.100</td>\n",
              "      <td>67803.22193</td>\n",
              "    </tr>\n",
              "    <tr>\n",
              "      <th>3</th>\n",
              "      <td>6.121</td>\n",
              "      <td>75.0</td>\n",
              "      <td>1016.91</td>\n",
              "      <td>0.23</td>\n",
              "      <td>0.083</td>\n",
              "      <td>0.091</td>\n",
              "      <td>0.096</td>\n",
              "      <td>65489.23209</td>\n",
              "    </tr>\n",
              "    <tr>\n",
              "      <th>4</th>\n",
              "      <td>5.921</td>\n",
              "      <td>75.7</td>\n",
              "      <td>1016.91</td>\n",
              "      <td>0.23</td>\n",
              "      <td>0.081</td>\n",
              "      <td>0.048</td>\n",
              "      <td>0.085</td>\n",
              "      <td>63650.44627</td>\n",
              "    </tr>\n",
              "  </tbody>\n",
              "</table>\n",
              "</div>\n",
              "      <button class=\"colab-df-convert\" onclick=\"convertToInteractive('df-78acbf5a-a944-4333-8375-cb35a213d2a6')\"\n",
              "              title=\"Convert this dataframe to an interactive table.\"\n",
              "              style=\"display:none;\">\n",
              "        \n",
              "  <svg xmlns=\"http://www.w3.org/2000/svg\" height=\"24px\"viewBox=\"0 0 24 24\"\n",
              "       width=\"24px\">\n",
              "    <path d=\"M0 0h24v24H0V0z\" fill=\"none\"/>\n",
              "    <path d=\"M18.56 5.44l.94 2.06.94-2.06 2.06-.94-2.06-.94-.94-2.06-.94 2.06-2.06.94zm-11 1L8.5 8.5l.94-2.06 2.06-.94-2.06-.94L8.5 2.5l-.94 2.06-2.06.94zm10 10l.94 2.06.94-2.06 2.06-.94-2.06-.94-.94-2.06-.94 2.06-2.06.94z\"/><path d=\"M17.41 7.96l-1.37-1.37c-.4-.4-.92-.59-1.43-.59-.52 0-1.04.2-1.43.59L10.3 9.45l-7.72 7.72c-.78.78-.78 2.05 0 2.83L4 21.41c.39.39.9.59 1.41.59.51 0 1.02-.2 1.41-.59l7.78-7.78 2.81-2.81c.8-.78.8-2.07 0-2.86zM5.41 20L4 18.59l7.72-7.72 1.47 1.35L5.41 20z\"/>\n",
              "  </svg>\n",
              "      </button>\n",
              "      \n",
              "  <style>\n",
              "    .colab-df-container {\n",
              "      display:flex;\n",
              "      flex-wrap:wrap;\n",
              "      gap: 12px;\n",
              "    }\n",
              "\n",
              "    .colab-df-convert {\n",
              "      background-color: #E8F0FE;\n",
              "      border: none;\n",
              "      border-radius: 50%;\n",
              "      cursor: pointer;\n",
              "      display: none;\n",
              "      fill: #1967D2;\n",
              "      height: 32px;\n",
              "      padding: 0 0 0 0;\n",
              "      width: 32px;\n",
              "    }\n",
              "\n",
              "    .colab-df-convert:hover {\n",
              "      background-color: #E2EBFA;\n",
              "      box-shadow: 0px 1px 2px rgba(60, 64, 67, 0.3), 0px 1px 3px 1px rgba(60, 64, 67, 0.15);\n",
              "      fill: #174EA6;\n",
              "    }\n",
              "\n",
              "    [theme=dark] .colab-df-convert {\n",
              "      background-color: #3B4455;\n",
              "      fill: #D2E3FC;\n",
              "    }\n",
              "\n",
              "    [theme=dark] .colab-df-convert:hover {\n",
              "      background-color: #434B5C;\n",
              "      box-shadow: 0px 1px 3px 1px rgba(0, 0, 0, 0.15);\n",
              "      filter: drop-shadow(0px 1px 2px rgba(0, 0, 0, 0.3));\n",
              "      fill: #FFFFFF;\n",
              "    }\n",
              "  </style>\n",
              "\n",
              "      <script>\n",
              "        const buttonEl =\n",
              "          document.querySelector('#df-78acbf5a-a944-4333-8375-cb35a213d2a6 button.colab-df-convert');\n",
              "        buttonEl.style.display =\n",
              "          google.colab.kernel.accessAllowed ? 'block' : 'none';\n",
              "\n",
              "        async function convertToInteractive(key) {\n",
              "          const element = document.querySelector('#df-78acbf5a-a944-4333-8375-cb35a213d2a6');\n",
              "          const dataTable =\n",
              "            await google.colab.kernel.invokeFunction('convertToInteractive',\n",
              "                                                     [key], {});\n",
              "          if (!dataTable) return;\n",
              "\n",
              "          const docLinkHtml = 'Like what you see? Visit the ' +\n",
              "            '<a target=\"_blank\" href=https://colab.research.google.com/notebooks/data_table.ipynb>data table notebook</a>'\n",
              "            + ' to learn more about interactive tables.';\n",
              "          element.innerHTML = '';\n",
              "          dataTable['output_type'] = 'display_data';\n",
              "          await google.colab.output.renderOutput(dataTable, element);\n",
              "          const docLink = document.createElement('div');\n",
              "          docLink.innerHTML = docLinkHtml;\n",
              "          element.appendChild(docLink);\n",
              "        }\n",
              "      </script>\n",
              "    </div>\n",
              "  </div>\n",
              "  "
            ],
            "text/plain": [
              "   Temperature  Humidity  ...  Diffuse_flows  Total_Power_Consumption\n",
              "0        6.559      73.8  ...          0.119              70425.53544\n",
              "1        6.414      74.5  ...          0.085              69320.84387\n",
              "2        6.313      74.5  ...          0.100              67803.22193\n",
              "3        6.121      75.0  ...          0.096              65489.23209\n",
              "4        5.921      75.7  ...          0.085              63650.44627\n",
              "\n",
              "[5 rows x 8 columns]"
            ]
          },
          "metadata": {},
          "execution_count": 155
        }
      ],
      "source": [
        "df.head()"
      ]
    },
    {
      "cell_type": "code",
      "execution_count": 156,
      "id": "6b46d563",
      "metadata": {
        "colab": {
          "base_uri": "https://localhost:8080/",
          "height": 300
        },
        "id": "6b46d563",
        "outputId": "b30ed8ec-56e1-4ed8-8b77-1b623f6d3852"
      },
      "outputs": [
        {
          "output_type": "execute_result",
          "data": {
            "text/html": [
              "\n",
              "  <div id=\"df-8d8b2948-f078-4b1a-a631-981854a73bac\">\n",
              "    <div class=\"colab-df-container\">\n",
              "      <div>\n",
              "<style scoped>\n",
              "    .dataframe tbody tr th:only-of-type {\n",
              "        vertical-align: middle;\n",
              "    }\n",
              "\n",
              "    .dataframe tbody tr th {\n",
              "        vertical-align: top;\n",
              "    }\n",
              "\n",
              "    .dataframe thead th {\n",
              "        text-align: right;\n",
              "    }\n",
              "</style>\n",
              "<table border=\"1\" class=\"dataframe\">\n",
              "  <thead>\n",
              "    <tr style=\"text-align: right;\">\n",
              "      <th></th>\n",
              "      <th>Temperature</th>\n",
              "      <th>Humidity</th>\n",
              "      <th>Pressure</th>\n",
              "      <th>CloudCover</th>\n",
              "      <th>Wind Speed</th>\n",
              "      <th>General_diffuse_flows</th>\n",
              "      <th>Diffuse_flows</th>\n",
              "      <th>Total_Power_Consumption</th>\n",
              "    </tr>\n",
              "  </thead>\n",
              "  <tbody>\n",
              "    <tr>\n",
              "      <th>count</th>\n",
              "      <td>1507.000000</td>\n",
              "      <td>1507.000000</td>\n",
              "      <td>1507.000000</td>\n",
              "      <td>1507.000000</td>\n",
              "      <td>1507.000000</td>\n",
              "      <td>1507.000000</td>\n",
              "      <td>1507.000000</td>\n",
              "      <td>1507.000000</td>\n",
              "    </tr>\n",
              "    <tr>\n",
              "      <th>mean</th>\n",
              "      <td>11.950636</td>\n",
              "      <td>75.968315</td>\n",
              "      <td>1014.664964</td>\n",
              "      <td>0.452024</td>\n",
              "      <td>0.080354</td>\n",
              "      <td>33.299289</td>\n",
              "      <td>11.271995</td>\n",
              "      <td>66644.446345</td>\n",
              "    </tr>\n",
              "    <tr>\n",
              "      <th>std</th>\n",
              "      <td>3.160690</td>\n",
              "      <td>7.802835</td>\n",
              "      <td>1.223158</td>\n",
              "      <td>0.318719</td>\n",
              "      <td>0.005853</td>\n",
              "      <td>88.266562</td>\n",
              "      <td>24.932389</td>\n",
              "      <td>17606.685910</td>\n",
              "    </tr>\n",
              "    <tr>\n",
              "      <th>min</th>\n",
              "      <td>4.212000</td>\n",
              "      <td>46.430000</td>\n",
              "      <td>1012.440000</td>\n",
              "      <td>0.000000</td>\n",
              "      <td>0.065000</td>\n",
              "      <td>0.011000</td>\n",
              "      <td>0.052000</td>\n",
              "      <td>39239.457920</td>\n",
              "    </tr>\n",
              "    <tr>\n",
              "      <th>25%</th>\n",
              "      <td>9.565000</td>\n",
              "      <td>71.400000</td>\n",
              "      <td>1013.890000</td>\n",
              "      <td>0.190000</td>\n",
              "      <td>0.075000</td>\n",
              "      <td>0.055000</td>\n",
              "      <td>0.119000</td>\n",
              "      <td>51148.044220</td>\n",
              "    </tr>\n",
              "    <tr>\n",
              "      <th>50%</th>\n",
              "      <td>12.530000</td>\n",
              "      <td>76.900000</td>\n",
              "      <td>1014.440000</td>\n",
              "      <td>0.310000</td>\n",
              "      <td>0.080000</td>\n",
              "      <td>0.070000</td>\n",
              "      <td>0.141000</td>\n",
              "      <td>60234.507790</td>\n",
              "    </tr>\n",
              "    <tr>\n",
              "      <th>75%</th>\n",
              "      <td>14.675000</td>\n",
              "      <td>82.300000</td>\n",
              "      <td>1015.680000</td>\n",
              "      <td>0.750000</td>\n",
              "      <td>0.085000</td>\n",
              "      <td>0.900000</td>\n",
              "      <td>0.925500</td>\n",
              "      <td>85913.016340</td>\n",
              "    </tr>\n",
              "    <tr>\n",
              "      <th>max</th>\n",
              "      <td>18.670000</td>\n",
              "      <td>88.900000</td>\n",
              "      <td>1016.910000</td>\n",
              "      <td>1.000000</td>\n",
              "      <td>0.100000</td>\n",
              "      <td>413.900000</td>\n",
              "      <td>112.300000</td>\n",
              "      <td>97602.871350</td>\n",
              "    </tr>\n",
              "  </tbody>\n",
              "</table>\n",
              "</div>\n",
              "      <button class=\"colab-df-convert\" onclick=\"convertToInteractive('df-8d8b2948-f078-4b1a-a631-981854a73bac')\"\n",
              "              title=\"Convert this dataframe to an interactive table.\"\n",
              "              style=\"display:none;\">\n",
              "        \n",
              "  <svg xmlns=\"http://www.w3.org/2000/svg\" height=\"24px\"viewBox=\"0 0 24 24\"\n",
              "       width=\"24px\">\n",
              "    <path d=\"M0 0h24v24H0V0z\" fill=\"none\"/>\n",
              "    <path d=\"M18.56 5.44l.94 2.06.94-2.06 2.06-.94-2.06-.94-.94-2.06-.94 2.06-2.06.94zm-11 1L8.5 8.5l.94-2.06 2.06-.94-2.06-.94L8.5 2.5l-.94 2.06-2.06.94zm10 10l.94 2.06.94-2.06 2.06-.94-2.06-.94-.94-2.06-.94 2.06-2.06.94z\"/><path d=\"M17.41 7.96l-1.37-1.37c-.4-.4-.92-.59-1.43-.59-.52 0-1.04.2-1.43.59L10.3 9.45l-7.72 7.72c-.78.78-.78 2.05 0 2.83L4 21.41c.39.39.9.59 1.41.59.51 0 1.02-.2 1.41-.59l7.78-7.78 2.81-2.81c.8-.78.8-2.07 0-2.86zM5.41 20L4 18.59l7.72-7.72 1.47 1.35L5.41 20z\"/>\n",
              "  </svg>\n",
              "      </button>\n",
              "      \n",
              "  <style>\n",
              "    .colab-df-container {\n",
              "      display:flex;\n",
              "      flex-wrap:wrap;\n",
              "      gap: 12px;\n",
              "    }\n",
              "\n",
              "    .colab-df-convert {\n",
              "      background-color: #E8F0FE;\n",
              "      border: none;\n",
              "      border-radius: 50%;\n",
              "      cursor: pointer;\n",
              "      display: none;\n",
              "      fill: #1967D2;\n",
              "      height: 32px;\n",
              "      padding: 0 0 0 0;\n",
              "      width: 32px;\n",
              "    }\n",
              "\n",
              "    .colab-df-convert:hover {\n",
              "      background-color: #E2EBFA;\n",
              "      box-shadow: 0px 1px 2px rgba(60, 64, 67, 0.3), 0px 1px 3px 1px rgba(60, 64, 67, 0.15);\n",
              "      fill: #174EA6;\n",
              "    }\n",
              "\n",
              "    [theme=dark] .colab-df-convert {\n",
              "      background-color: #3B4455;\n",
              "      fill: #D2E3FC;\n",
              "    }\n",
              "\n",
              "    [theme=dark] .colab-df-convert:hover {\n",
              "      background-color: #434B5C;\n",
              "      box-shadow: 0px 1px 3px 1px rgba(0, 0, 0, 0.15);\n",
              "      filter: drop-shadow(0px 1px 2px rgba(0, 0, 0, 0.3));\n",
              "      fill: #FFFFFF;\n",
              "    }\n",
              "  </style>\n",
              "\n",
              "      <script>\n",
              "        const buttonEl =\n",
              "          document.querySelector('#df-8d8b2948-f078-4b1a-a631-981854a73bac button.colab-df-convert');\n",
              "        buttonEl.style.display =\n",
              "          google.colab.kernel.accessAllowed ? 'block' : 'none';\n",
              "\n",
              "        async function convertToInteractive(key) {\n",
              "          const element = document.querySelector('#df-8d8b2948-f078-4b1a-a631-981854a73bac');\n",
              "          const dataTable =\n",
              "            await google.colab.kernel.invokeFunction('convertToInteractive',\n",
              "                                                     [key], {});\n",
              "          if (!dataTable) return;\n",
              "\n",
              "          const docLinkHtml = 'Like what you see? Visit the ' +\n",
              "            '<a target=\"_blank\" href=https://colab.research.google.com/notebooks/data_table.ipynb>data table notebook</a>'\n",
              "            + ' to learn more about interactive tables.';\n",
              "          element.innerHTML = '';\n",
              "          dataTable['output_type'] = 'display_data';\n",
              "          await google.colab.output.renderOutput(dataTable, element);\n",
              "          const docLink = document.createElement('div');\n",
              "          docLink.innerHTML = docLinkHtml;\n",
              "          element.appendChild(docLink);\n",
              "        }\n",
              "      </script>\n",
              "    </div>\n",
              "  </div>\n",
              "  "
            ],
            "text/plain": [
              "       Temperature     Humidity  ...  Diffuse_flows  Total_Power_Consumption\n",
              "count  1507.000000  1507.000000  ...    1507.000000              1507.000000\n",
              "mean     11.950636    75.968315  ...      11.271995             66644.446345\n",
              "std       3.160690     7.802835  ...      24.932389             17606.685910\n",
              "min       4.212000    46.430000  ...       0.052000             39239.457920\n",
              "25%       9.565000    71.400000  ...       0.119000             51148.044220\n",
              "50%      12.530000    76.900000  ...       0.141000             60234.507790\n",
              "75%      14.675000    82.300000  ...       0.925500             85913.016340\n",
              "max      18.670000    88.900000  ...     112.300000             97602.871350\n",
              "\n",
              "[8 rows x 8 columns]"
            ]
          },
          "metadata": {},
          "execution_count": 156
        }
      ],
      "source": [
        "df.describe()"
      ]
    },
    {
      "cell_type": "markdown",
      "id": "ab885469",
      "metadata": {
        "id": "ab885469"
      },
      "source": [
        "### 3. Exploratory Data Analysis"
      ]
    },
    {
      "cell_type": "code",
      "execution_count": 157,
      "id": "24a5cbad",
      "metadata": {
        "colab": {
          "base_uri": "https://localhost:8080/",
          "height": 728
        },
        "id": "24a5cbad",
        "outputId": "6c2cd735-5b4c-4d7c-f15b-6fb601847d3a"
      },
      "outputs": [
        {
          "output_type": "execute_result",
          "data": {
            "text/plain": [
              "<matplotlib.axes._subplots.AxesSubplot at 0x7fef6300f550>"
            ]
          },
          "metadata": {},
          "execution_count": 157
        },
        {
          "output_type": "display_data",
          "data": {
            "image/png": "[encoded data removed]",
            "text/plain": [
              "<Figure size 720x720 with 2 Axes>"
            ]
          },
          "metadata": {
            "needs_background": "light"
          }
        }
      ],
      "source": [
        "corr= df.corr()\n",
        "plt.subplots(figsize=(10,10))\n",
        "sns.heatmap(corr,vmin=-0.7, vmax=0.7,linewidths=0.2,annot=True,cmap=\"YlGnBu\")"
      ]
    },
    {
      "cell_type": "markdown",
      "id": "0692a887",
      "metadata": {
        "id": "0692a887"
      },
      "source": [
        "There is low correlation between features. So further reduction of features are not possible. "
      ]
    },
    {
      "cell_type": "code",
      "execution_count": 158,
      "id": "f7acae65",
      "metadata": {
        "colab": {
          "base_uri": "https://localhost:8080/",
          "height": 299
        },
        "id": "f7acae65",
        "outputId": "5ed5f202-89c2-46fd-8f05-635330018f90"
      },
      "outputs": [
        {
          "output_type": "execute_result",
          "data": {
            "text/plain": [
              "<matplotlib.axes._subplots.AxesSubplot at 0x7fef6296e1d0>"
            ]
          },
          "metadata": {},
          "execution_count": 158
        },
        {
          "output_type": "display_data",
          "data": {
            "image/png": "[encoded data removed]",
            "text/plain": [
              "<Figure size 432x288 with 1 Axes>"
            ]
          },
          "metadata": {
            "needs_background": "light"
          }
        }
      ],
      "source": [
        "#univarient analysis\n",
        "#histogram\n",
        "sns.histplot(y=\"Total_Power_Consumption\",data=df,color=\"darkorange\")"
      ]
    },
    {
      "cell_type": "markdown",
      "id": "9c30543d",
      "metadata": {
        "id": "9c30543d"
      },
      "source": [
        "Total Power Consumption is 50000KWh at most of the time."
      ]
    },
    {
      "cell_type": "code",
      "execution_count": 159,
      "id": "06cfda3e",
      "metadata": {
        "colab": {
          "base_uri": "https://localhost:8080/",
          "height": 308
        },
        "id": "06cfda3e",
        "outputId": "b028d063-7b98-44be-b5ea-29c0b62684de"
      },
      "outputs": [
        {
          "output_type": "execute_result",
          "data": {
            "text/plain": [
              "<matplotlib.axes._subplots.AxesSubplot at 0x7fef62890590>"
            ]
          },
          "metadata": {},
          "execution_count": 159
        },
        {
          "output_type": "display_data",
          "data": {
            "image/png": "[encoded data removed]",
            "text/plain": [
              "<Figure size 432x288 with 1 Axes>"
            ]
          },
          "metadata": {
            "needs_background": "light"
          }
        }
      ],
      "source": [
        "#distplot\n",
        "sns.distplot(df[\"Total_Power_Consumption\"],hist=False,color=\"green\")"
      ]
    },
    {
      "cell_type": "code",
      "execution_count": 160,
      "id": "e57be87a",
      "metadata": {
        "colab": {
          "base_uri": "https://localhost:8080/",
          "height": 298
        },
        "id": "e57be87a",
        "outputId": "38b57993-d586-4ceb-92ce-8f97e7e3ba93"
      },
      "outputs": [
        {
          "output_type": "execute_result",
          "data": {
            "text/plain": [
              "<matplotlib.axes._subplots.AxesSubplot at 0x7fef6285b410>"
            ]
          },
          "metadata": {},
          "execution_count": 160
        },
        {
          "output_type": "display_data",
          "data": {
            "image/png": "[encoded data removed]",
            "text/plain": [
              "<Figure size 432x288 with 1 Axes>"
            ]
          },
          "metadata": {
            "needs_background": "light"
          }
        }
      ],
      "source": [
        "sns.distplot(df[\"Total_Power_Consumption\"],kde=False,color=\"red\",bins=10)"
      ]
    },
    {
      "cell_type": "code",
      "execution_count": 161,
      "id": "7c447beb",
      "metadata": {
        "colab": {
          "base_uri": "https://localhost:8080/",
          "height": 348
        },
        "id": "7c447beb",
        "outputId": "6a397607-1e7f-492f-ab22-9eddeda9b472"
      },
      "outputs": [
        {
          "output_type": "execute_result",
          "data": {
            "text/plain": [
              "<matplotlib.axes._subplots.AxesSubplot at 0x7fef627e7950>"
            ]
          },
          "metadata": {},
          "execution_count": 161
        },
        {
          "output_type": "display_data",
          "data": {
            "image/png": "[encoded data removed]",
            "text/plain": [
              "<Figure size 360x360 with 1 Axes>"
            ]
          },
          "metadata": {
            "needs_background": "light"
          }
        }
      ],
      "source": [
        "plt.figure(figsize=(5,5))\n",
        "df[\"Total_Power_Consumption\"].plot(kind=\"density\")"
      ]
    },
    {
      "cell_type": "code",
      "execution_count": 162,
      "id": "ff04a60e",
      "metadata": {
        "colab": {
          "base_uri": "https://localhost:8080/",
          "height": 299
        },
        "id": "ff04a60e",
        "outputId": "0a60e16a-8158-4d10-96e6-70167f89afee"
      },
      "outputs": [
        {
          "output_type": "execute_result",
          "data": {
            "text/plain": [
              "<matplotlib.axes._subplots.AxesSubplot at 0x7fef62770110>"
            ]
          },
          "metadata": {},
          "execution_count": 162
        },
        {
          "output_type": "display_data",
          "data": {
            "image/png": "[encoded data removed]",
            "text/plain": [
              "<Figure size 432x288 with 1 Axes>"
            ]
          },
          "metadata": {
            "needs_background": "light"
          }
        }
      ],
      "source": [
        "#bivarient analysis\n",
        "sns.scatterplot(df[\"Temperature\"],df[\"Total_Power_Consumption\"],color=\"red\")"
      ]
    },
    {
      "cell_type": "markdown",
      "id": "4e324903",
      "metadata": {
        "id": "4e324903"
      },
      "source": [
        "There is a relation between Temperature and Total Power Consumption."
      ]
    },
    {
      "cell_type": "code",
      "execution_count": 163,
      "id": "e5990ac5",
      "metadata": {
        "colab": {
          "base_uri": "https://localhost:8080/",
          "height": 300
        },
        "id": "e5990ac5",
        "outputId": "ea041e06-0e14-47ef-a5ea-0fca4d57728e"
      },
      "outputs": [
        {
          "output_type": "execute_result",
          "data": {
            "text/plain": [
              "<matplotlib.axes._subplots.AxesSubplot at 0x7fef626dba90>"
            ]
          },
          "metadata": {},
          "execution_count": 163
        },
        {
          "output_type": "display_data",
          "data": {
            "image/png": "[encoded data removed]",
            "text/plain": [
              "<Figure size 432x288 with 1 Axes>"
            ]
          },
          "metadata": {
            "needs_background": "light"
          }
        }
      ],
      "source": [
        "#lineplot\n",
        "sns.lineplot(df[\"General_diffuse_flows\"],df[\"Total_Power_Consumption\"],color=\"blue\")"
      ]
    },
    {
      "cell_type": "markdown",
      "id": "90ae2c8c",
      "metadata": {
        "id": "90ae2c8c"
      },
      "source": [
        "There is a decrease in range of total power consuption when general diffuse flow increases."
      ]
    },
    {
      "cell_type": "code",
      "execution_count": 164,
      "id": "202eb37c",
      "metadata": {
        "colab": {
          "base_uri": "https://localhost:8080/",
          "height": 299
        },
        "id": "202eb37c",
        "outputId": "d207c823-e8bd-44b2-9ded-dba5dec8be67"
      },
      "outputs": [
        {
          "output_type": "execute_result",
          "data": {
            "text/plain": [
              "<matplotlib.axes._subplots.AxesSubplot at 0x7fef62649fd0>"
            ]
          },
          "metadata": {},
          "execution_count": 164
        },
        {
          "output_type": "display_data",
          "data": {
            "image/png": "[encoded data removed]",
            "text/plain": [
              "<Figure size 432x288 with 1 Axes>"
            ]
          },
          "metadata": {
            "needs_background": "light"
          }
        }
      ],
      "source": [
        "#regplot\n",
        "#regplot is a scatterplot with a regression line to it.\n",
        "sns.regplot(df[\"General_diffuse_flows\"],df[\"Total_Power_Consumption\"],color=\"darkorange\")"
      ]
    },
    {
      "cell_type": "code",
      "execution_count": 165,
      "id": "1b17f44e",
      "metadata": {
        "colab": {
          "base_uri": "https://localhost:8080/",
          "height": 458
        },
        "id": "1b17f44e",
        "outputId": "77ff678e-6f0d-4ba9-a78d-0e91a862c38a"
      },
      "outputs": [
        {
          "output_type": "execute_result",
          "data": {
            "text/plain": [
              "<seaborn.axisgrid.JointGrid at 0x7fef62ae8850>"
            ]
          },
          "metadata": {},
          "execution_count": 165
        },
        {
          "output_type": "display_data",
          "data": {
            "image/png": "[encoded data removed]",
            "text/plain": [
              "<Figure size 432x432 with 3 Axes>"
            ]
          },
          "metadata": {
            "needs_background": "light"
          }
        }
      ],
      "source": [
        "sns.jointplot(x=\"Total_Power_Consumption\",y=\"General_diffuse_flows\",data=df)"
      ]
    },
    {
      "cell_type": "code",
      "execution_count": 166,
      "id": "7058f176",
      "metadata": {
        "id": "7058f176"
      },
      "outputs": [],
      "source": [
        " \n",
        "#sns.stripplot(x=df[\"Temperature\"],y=df[\"Total_Power_Consumption\"])"
      ]
    },
    {
      "cell_type": "code",
      "execution_count": 167,
      "id": "78766db6",
      "metadata": {
        "id": "78766db6"
      },
      "outputs": [],
      "source": [
        "#sns.pairplot(df)"
      ]
    },
    {
      "cell_type": "code",
      "execution_count": 168,
      "id": "ddbbc296",
      "metadata": {
        "id": "ddbbc296"
      },
      "outputs": [],
      "source": [
        "#splitting of the data into features and target.\n",
        "x=df.drop(columns=[\"Total_Power_Consumption\"],axis=1)\n",
        "y=df[\"Total_Power_Consumption\"]"
      ]
    },
    {
      "cell_type": "code",
      "execution_count": 169,
      "id": "22131ac2",
      "metadata": {
        "colab": {
          "base_uri": "https://localhost:8080/"
        },
        "id": "22131ac2",
        "outputId": "0648ff2d-145d-4a0b-be4b-a0bd63af4055"
      },
      "outputs": [
        {
          "output_type": "stream",
          "name": "stdout",
          "text": [
            "(1507, 7)\n",
            "(1507,)\n"
          ]
        }
      ],
      "source": [
        "print(x.shape)\n",
        "print(y.shape)"
      ]
    },
    {
      "cell_type": "code",
      "execution_count": 170,
      "id": "a2224988",
      "metadata": {
        "id": "a2224988"
      },
      "outputs": [],
      "source": [
        "from sklearn.model_selection import train_test_split\n",
        "#split the Dataset into train and test\n",
        "x_train,x_test,y_train,y_test= train_test_split(x,y,random_state=42,test_size=0.25)"
      ]
    },
    {
      "cell_type": "code",
      "execution_count": 171,
      "id": "446fdf8d",
      "metadata": {
        "colab": {
          "base_uri": "https://localhost:8080/"
        },
        "id": "446fdf8d",
        "outputId": "2e05dda2-b07c-45ec-e90d-878fd1424832"
      },
      "outputs": [
        {
          "output_type": "execute_result",
          "data": {
            "text/plain": [
              "(1130, 7)"
            ]
          },
          "metadata": {},
          "execution_count": 171
        }
      ],
      "source": [
        "x_train.shape"
      ]
    },
    {
      "cell_type": "code",
      "execution_count": 172,
      "id": "861d511d",
      "metadata": {
        "colab": {
          "base_uri": "https://localhost:8080/"
        },
        "id": "861d511d",
        "outputId": "2e9e0faf-7fa3-4a8a-9feb-a3f304c07dc5"
      },
      "outputs": [
        {
          "output_type": "execute_result",
          "data": {
            "text/plain": [
              "(1130,)"
            ]
          },
          "metadata": {},
          "execution_count": 172
        }
      ],
      "source": [
        "y_train.shape"
      ]
    },
    {
      "cell_type": "code",
      "execution_count": 173,
      "id": "970c28d2",
      "metadata": {
        "colab": {
          "base_uri": "https://localhost:8080/"
        },
        "id": "970c28d2",
        "outputId": "246eb71b-091b-4e9c-9c08-6e6d1dad746a"
      },
      "outputs": [
        {
          "output_type": "execute_result",
          "data": {
            "text/plain": [
              "(377, 7)"
            ]
          },
          "metadata": {},
          "execution_count": 173
        }
      ],
      "source": [
        "x_test.shape"
      ]
    },
    {
      "cell_type": "code",
      "execution_count": 174,
      "id": "c390d9c9",
      "metadata": {
        "colab": {
          "base_uri": "https://localhost:8080/"
        },
        "id": "c390d9c9",
        "outputId": "038dd5a9-e12c-45fe-868a-f68910e9f4ff"
      },
      "outputs": [
        {
          "output_type": "execute_result",
          "data": {
            "text/plain": [
              "(377,)"
            ]
          },
          "metadata": {},
          "execution_count": 174
        }
      ],
      "source": [
        "y_test.shape"
      ]
    },
    {
      "cell_type": "code",
      "execution_count": 175,
      "id": "722333a7",
      "metadata": {
        "id": "722333a7"
      },
      "outputs": [],
      "source": [
        "t=[]"
      ]
    },
    {
      "cell_type": "markdown",
      "id": "748f9543",
      "metadata": {
        "id": "748f9543"
      },
      "source": [
        "### 4.Modelling"
      ]
    },
    {
      "cell_type": "markdown",
      "id": "29153282",
      "metadata": {
        "id": "29153282"
      },
      "source": [
        "Target is not a discrete number. So, following regression models are used for prediction."
      ]
    },
    {
      "cell_type": "markdown",
      "id": "2e6adc15",
      "metadata": {
        "id": "2e6adc15"
      },
      "source": [
        "### 4.1 Linear Regression"
      ]
    },
    {
      "cell_type": "code",
      "execution_count": 176,
      "id": "bbc57b0a",
      "metadata": {
        "id": "bbc57b0a"
      },
      "outputs": [],
      "source": [
        "from math import sqrt\n",
        "#perform linear regression\n",
        "from sklearn import linear_model\n",
        "lr=linear_model.LinearRegression()\n",
        "model=lr.fit(x_train,y_train)\n",
        "#make prediction using the model\n",
        "predictions=model.predict(x_test)"
      ]
    },
    {
      "cell_type": "code",
      "execution_count": 177,
      "id": "1a4411bb",
      "metadata": {
        "colab": {
          "base_uri": "https://localhost:8080/"
        },
        "id": "1a4411bb",
        "outputId": "f5eed208-2a19-419b-b6dc-f9b6ed57e669"
      },
      "outputs": [
        {
          "output_type": "stream",
          "name": "stdout",
          "text": [
            "RMSE is 14858.003843427252\n"
          ]
        }
      ],
      "source": [
        "from sklearn.metrics import mean_squared_error\n",
        "from sklearn.metrics import r2_score\n",
        "print('RMSE is',sqrt(mean_squared_error(y_test,predictions)))"
      ]
    },
    {
      "cell_type": "code",
      "execution_count": 178,
      "id": "1afc9fb3",
      "metadata": {
        "colab": {
          "base_uri": "https://localhost:8080/"
        },
        "id": "1afc9fb3",
        "outputId": "6e1e897d-f6f4-4c20-9700-3d33f335ad15"
      },
      "outputs": [
        {
          "output_type": "stream",
          "name": "stdout",
          "text": [
            "R2 value: 0.3301218823250326\n"
          ]
        }
      ],
      "source": [
        "rsquare= r2_score(y_test,predictions)\n",
        "print('R2 value:',r2_score(y_test,predictions))"
      ]
    },
    {
      "cell_type": "code",
      "execution_count": 179,
      "id": "1057375e",
      "metadata": {
        "id": "1057375e"
      },
      "outputs": [],
      "source": [
        "t.append(['Linear Regession',round(sqrt(mean_squared_error(y_test,predictions)),5),round(r2_score(y_test,predictions),5)])"
      ]
    },
    {
      "cell_type": "code",
      "execution_count": 180,
      "id": "97eed620",
      "metadata": {
        "colab": {
          "base_uri": "https://localhost:8080/",
          "height": 617
        },
        "id": "97eed620",
        "outputId": "d2e726e5-290a-47db-ec8b-e6f1a3d3c84f"
      },
      "outputs": [
        {
          "output_type": "display_data",
          "data": {
            "image/png": "[encoded data removed]",
            "text/plain": [
              "<Figure size 720x720 with 1 Axes>"
            ]
          },
          "metadata": {
            "needs_background": "light"
          }
        }
      ],
      "source": [
        "plt.figure(figsize=(10,10))\n",
        "plt.scatter(y_test, predictions, c='crimson')\n",
        "plt.yscale('log')\n",
        "plt.xscale('log')\n",
        "\n",
        "p1 = max(max(predictions), max(y_test))\n",
        "p2 = min(min(predictions), min(y_test))\n",
        "plt.plot([p1, p2], [p1, p2], 'b-')\n",
        "plt.xlabel('y_test', fontsize=15)\n",
        "plt.ylabel('Predictions', fontsize=15)\n",
        "plt.axis('equal')\n",
        "plt.show()"
      ]
    },
    {
      "cell_type": "code",
      "execution_count": 181,
      "id": "2db34235",
      "metadata": {
        "colab": {
          "base_uri": "https://localhost:8080/",
          "height": 297
        },
        "id": "2db34235",
        "outputId": "c053e11d-1c5c-4760-ceec-bf07ad165e3b"
      },
      "outputs": [
        {
          "output_type": "execute_result",
          "data": {
            "text/plain": [
              "<matplotlib.axes._subplots.AxesSubplot at 0x7fef60dd9350>"
            ]
          },
          "metadata": {},
          "execution_count": 181
        },
        {
          "output_type": "display_data",
          "data": {
            "image/png": "[encoded data removed]",
            "text/plain": [
              "<Figure size 432x288 with 1 Axes>"
            ]
          },
          "metadata": {
            "needs_background": "light"
          }
        }
      ],
      "source": [
        "sns.scatterplot(df[\"Total_Power_Consumption\"],df[\"Temperature\"],color=\"red\")"
      ]
    },
    {
      "cell_type": "code",
      "execution_count": 182,
      "id": "0468447a",
      "metadata": {
        "id": "0468447a"
      },
      "outputs": [],
      "source": [
        "from sklearn.preprocessing import StandardScaler\n",
        "scaler= StandardScaler()\n",
        "x_train=scaler.fit_transform(x_train)\n",
        "x_test=scaler.fit_transform(x_test)\n"
      ]
    },
    {
      "cell_type": "code",
      "execution_count": 183,
      "id": "474df43a",
      "metadata": {
        "colab": {
          "base_uri": "https://localhost:8080/",
          "height": 300
        },
        "id": "474df43a",
        "outputId": "1e998ace-ff9d-4873-e100-d6694601363e"
      },
      "outputs": [
        {
          "output_type": "execute_result",
          "data": {
            "text/html": [
              "\n",
              "  <div id=\"df-36a5c2c6-d324-4e19-a691-ac359a363989\">\n",
              "    <div class=\"colab-df-container\">\n",
              "      <div>\n",
              "<style scoped>\n",
              "    .dataframe tbody tr th:only-of-type {\n",
              "        vertical-align: middle;\n",
              "    }\n",
              "\n",
              "    .dataframe tbody tr th {\n",
              "        vertical-align: top;\n",
              "    }\n",
              "\n",
              "    .dataframe thead th {\n",
              "        text-align: right;\n",
              "    }\n",
              "</style>\n",
              "<table border=\"1\" class=\"dataframe\">\n",
              "  <thead>\n",
              "    <tr style=\"text-align: right;\">\n",
              "      <th></th>\n",
              "      <th>Temperature</th>\n",
              "      <th>Humidity</th>\n",
              "      <th>Pressure</th>\n",
              "      <th>CloudCover</th>\n",
              "      <th>Wind Speed</th>\n",
              "      <th>General_diffuse_flows</th>\n",
              "      <th>Diffuse_flows</th>\n",
              "      <th>Total_Power_Consumption</th>\n",
              "    </tr>\n",
              "  </thead>\n",
              "  <tbody>\n",
              "    <tr>\n",
              "      <th>count</th>\n",
              "      <td>1507.000000</td>\n",
              "      <td>1507.000000</td>\n",
              "      <td>1507.000000</td>\n",
              "      <td>1507.000000</td>\n",
              "      <td>1507.000000</td>\n",
              "      <td>1507.000000</td>\n",
              "      <td>1507.000000</td>\n",
              "      <td>1507.000000</td>\n",
              "    </tr>\n",
              "    <tr>\n",
              "      <th>mean</th>\n",
              "      <td>11.950636</td>\n",
              "      <td>75.968315</td>\n",
              "      <td>1014.664964</td>\n",
              "      <td>0.452024</td>\n",
              "      <td>0.080354</td>\n",
              "      <td>33.299289</td>\n",
              "      <td>11.271995</td>\n",
              "      <td>66644.446345</td>\n",
              "    </tr>\n",
              "    <tr>\n",
              "      <th>std</th>\n",
              "      <td>3.160690</td>\n",
              "      <td>7.802835</td>\n",
              "      <td>1.223158</td>\n",
              "      <td>0.318719</td>\n",
              "      <td>0.005853</td>\n",
              "      <td>88.266562</td>\n",
              "      <td>24.932389</td>\n",
              "      <td>17606.685910</td>\n",
              "    </tr>\n",
              "    <tr>\n",
              "      <th>min</th>\n",
              "      <td>4.212000</td>\n",
              "      <td>46.430000</td>\n",
              "      <td>1012.440000</td>\n",
              "      <td>0.000000</td>\n",
              "      <td>0.065000</td>\n",
              "      <td>0.011000</td>\n",
              "      <td>0.052000</td>\n",
              "      <td>39239.457920</td>\n",
              "    </tr>\n",
              "    <tr>\n",
              "      <th>25%</th>\n",
              "      <td>9.565000</td>\n",
              "      <td>71.400000</td>\n",
              "      <td>1013.890000</td>\n",
              "      <td>0.190000</td>\n",
              "      <td>0.075000</td>\n",
              "      <td>0.055000</td>\n",
              "      <td>0.119000</td>\n",
              "      <td>51148.044220</td>\n",
              "    </tr>\n",
              "    <tr>\n",
              "      <th>50%</th>\n",
              "      <td>12.530000</td>\n",
              "      <td>76.900000</td>\n",
              "      <td>1014.440000</td>\n",
              "      <td>0.310000</td>\n",
              "      <td>0.080000</td>\n",
              "      <td>0.070000</td>\n",
              "      <td>0.141000</td>\n",
              "      <td>60234.507790</td>\n",
              "    </tr>\n",
              "    <tr>\n",
              "      <th>75%</th>\n",
              "      <td>14.675000</td>\n",
              "      <td>82.300000</td>\n",
              "      <td>1015.680000</td>\n",
              "      <td>0.750000</td>\n",
              "      <td>0.085000</td>\n",
              "      <td>0.900000</td>\n",
              "      <td>0.925500</td>\n",
              "      <td>85913.016340</td>\n",
              "    </tr>\n",
              "    <tr>\n",
              "      <th>max</th>\n",
              "      <td>18.670000</td>\n",
              "      <td>88.900000</td>\n",
              "      <td>1016.910000</td>\n",
              "      <td>1.000000</td>\n",
              "      <td>0.100000</td>\n",
              "      <td>413.900000</td>\n",
              "      <td>112.300000</td>\n",
              "      <td>97602.871350</td>\n",
              "    </tr>\n",
              "  </tbody>\n",
              "</table>\n",
              "</div>\n",
              "      <button class=\"colab-df-convert\" onclick=\"convertToInteractive('df-36a5c2c6-d324-4e19-a691-ac359a363989')\"\n",
              "              title=\"Convert this dataframe to an interactive table.\"\n",
              "              style=\"display:none;\">\n",
              "        \n",
              "  <svg xmlns=\"http://www.w3.org/2000/svg\" height=\"24px\"viewBox=\"0 0 24 24\"\n",
              "       width=\"24px\">\n",
              "    <path d=\"M0 0h24v24H0V0z\" fill=\"none\"/>\n",
              "    <path d=\"M18.56 5.44l.94 2.06.94-2.06 2.06-.94-2.06-.94-.94-2.06-.94 2.06-2.06.94zm-11 1L8.5 8.5l.94-2.06 2.06-.94-2.06-.94L8.5 2.5l-.94 2.06-2.06.94zm10 10l.94 2.06.94-2.06 2.06-.94-2.06-.94-.94-2.06-.94 2.06-2.06.94z\"/><path d=\"M17.41 7.96l-1.37-1.37c-.4-.4-.92-.59-1.43-.59-.52 0-1.04.2-1.43.59L10.3 9.45l-7.72 7.72c-.78.78-.78 2.05 0 2.83L4 21.41c.39.39.9.59 1.41.59.51 0 1.02-.2 1.41-.59l7.78-7.78 2.81-2.81c.8-.78.8-2.07 0-2.86zM5.41 20L4 18.59l7.72-7.72 1.47 1.35L5.41 20z\"/>\n",
              "  </svg>\n",
              "      </button>\n",
              "      \n",
              "  <style>\n",
              "    .colab-df-container {\n",
              "      display:flex;\n",
              "      flex-wrap:wrap;\n",
              "      gap: 12px;\n",
              "    }\n",
              "\n",
              "    .colab-df-convert {\n",
              "      background-color: #E8F0FE;\n",
              "      border: none;\n",
              "      border-radius: 50%;\n",
              "      cursor: pointer;\n",
              "      display: none;\n",
              "      fill: #1967D2;\n",
              "      height: 32px;\n",
              "      padding: 0 0 0 0;\n",
              "      width: 32px;\n",
              "    }\n",
              "\n",
              "    .colab-df-convert:hover {\n",
              "      background-color: #E2EBFA;\n",
              "      box-shadow: 0px 1px 2px rgba(60, 64, 67, 0.3), 0px 1px 3px 1px rgba(60, 64, 67, 0.15);\n",
              "      fill: #174EA6;\n",
              "    }\n",
              "\n",
              "    [theme=dark] .colab-df-convert {\n",
              "      background-color: #3B4455;\n",
              "      fill: #D2E3FC;\n",
              "    }\n",
              "\n",
              "    [theme=dark] .colab-df-convert:hover {\n",
              "      background-color: #434B5C;\n",
              "      box-shadow: 0px 1px 3px 1px rgba(0, 0, 0, 0.15);\n",
              "      filter: drop-shadow(0px 1px 2px rgba(0, 0, 0, 0.3));\n",
              "      fill: #FFFFFF;\n",
              "    }\n",
              "  </style>\n",
              "\n",
              "      <script>\n",
              "        const buttonEl =\n",
              "          document.querySelector('#df-36a5c2c6-d324-4e19-a691-ac359a363989 button.colab-df-convert');\n",
              "        buttonEl.style.display =\n",
              "          google.colab.kernel.accessAllowed ? 'block' : 'none';\n",
              "\n",
              "        async function convertToInteractive(key) {\n",
              "          const element = document.querySelector('#df-36a5c2c6-d324-4e19-a691-ac359a363989');\n",
              "          const dataTable =\n",
              "            await google.colab.kernel.invokeFunction('convertToInteractive',\n",
              "                                                     [key], {});\n",
              "          if (!dataTable) return;\n",
              "\n",
              "          const docLinkHtml = 'Like what you see? Visit the ' +\n",
              "            '<a target=\"_blank\" href=https://colab.research.google.com/notebooks/data_table.ipynb>data table notebook</a>'\n",
              "            + ' to learn more about interactive tables.';\n",
              "          element.innerHTML = '';\n",
              "          dataTable['output_type'] = 'display_data';\n",
              "          await google.colab.output.renderOutput(dataTable, element);\n",
              "          const docLink = document.createElement('div');\n",
              "          docLink.innerHTML = docLinkHtml;\n",
              "          element.appendChild(docLink);\n",
              "        }\n",
              "      </script>\n",
              "    </div>\n",
              "  </div>\n",
              "  "
            ],
            "text/plain": [
              "       Temperature     Humidity  ...  Diffuse_flows  Total_Power_Consumption\n",
              "count  1507.000000  1507.000000  ...    1507.000000              1507.000000\n",
              "mean     11.950636    75.968315  ...      11.271995             66644.446345\n",
              "std       3.160690     7.802835  ...      24.932389             17606.685910\n",
              "min       4.212000    46.430000  ...       0.052000             39239.457920\n",
              "25%       9.565000    71.400000  ...       0.119000             51148.044220\n",
              "50%      12.530000    76.900000  ...       0.141000             60234.507790\n",
              "75%      14.675000    82.300000  ...       0.925500             85913.016340\n",
              "max      18.670000    88.900000  ...     112.300000             97602.871350\n",
              "\n",
              "[8 rows x 8 columns]"
            ]
          },
          "metadata": {},
          "execution_count": 183
        }
      ],
      "source": [
        "df.describe()"
      ]
    },
    {
      "cell_type": "markdown",
      "id": "fb1a6c55",
      "metadata": {
        "id": "fb1a6c55"
      },
      "source": [
        "### 4.2 KNN"
      ]
    },
    {
      "cell_type": "code",
      "execution_count": 184,
      "id": "45559cde",
      "metadata": {
        "colab": {
          "base_uri": "https://localhost:8080/"
        },
        "id": "45559cde",
        "outputId": "fedffe30-12dd-4a58-eb78-940332e76891"
      },
      "outputs": [
        {
          "output_type": "execute_result",
          "data": {
            "text/plain": [
              "4"
            ]
          },
          "metadata": {},
          "execution_count": 184
        }
      ],
      "source": [
        "#knn\n",
        "from sklearn import neighbors\n",
        "from sklearn.metrics import mean_squared_error\n",
        "from math import sqrt\n",
        "from sklearn.neighbors import KNeighborsRegressor\n",
        "rms=9999\n",
        "rmse_values=[]\n",
        "nib=np.arange(3,50)\n",
        "for k in nib:\n",
        "    k=k+1\n",
        "    model=neighbors.KNeighborsRegressor(n_neighbors=k, metric='minkowski')\n",
        "    model.fit(x_train,y_train)\n",
        "    pred=model.predict(x_test)\n",
        "    error=sqrt(mean_squared_error(y_test,pred))\n",
        "    rmse_values.append(error)\n",
        "    if error<rms:\n",
        "        opt_k=k\n",
        "        rms=error\n",
        "opt_k\n",
        "      \n",
        "   "
      ]
    },
    {
      "cell_type": "code",
      "execution_count": 185,
      "id": "9467374d",
      "metadata": {
        "colab": {
          "base_uri": "https://localhost:8080/"
        },
        "id": "9467374d",
        "outputId": "89a6c291-7199-404c-a121-415f0e868ec6"
      },
      "outputs": [
        {
          "output_type": "stream",
          "name": "stdout",
          "text": [
            "6381.252215006656\n"
          ]
        }
      ],
      "source": [
        "knn_model=neighbors.KNeighborsRegressor(n_neighbors=4, metric='minkowski')\n",
        "knn_model.fit(x_train,y_train)\n",
        "pred=knn_model.predict(x_test)\n",
        "error=sqrt(mean_squared_error(y_test,pred))\n",
        "print(error)"
      ]
    },
    {
      "cell_type": "code",
      "execution_count": 186,
      "id": "0faf14e5",
      "metadata": {
        "colab": {
          "base_uri": "https://localhost:8080/"
        },
        "id": "0faf14e5",
        "outputId": "26acf72a-1ad6-420b-83af-622b140647cb"
      },
      "outputs": [
        {
          "output_type": "stream",
          "name": "stdout",
          "text": [
            "R2 value: 0.876437502192108\n"
          ]
        }
      ],
      "source": [
        "rsquare= r2_score(y_test,pred)\n",
        "print('R2 value:',r2_score(y_test,pred))"
      ]
    },
    {
      "cell_type": "code",
      "execution_count": 187,
      "id": "5c55ca2a",
      "metadata": {
        "id": "5c55ca2a"
      },
      "outputs": [],
      "source": [
        "t.append(['KNN',round(sqrt(mean_squared_error(y_test,pred)),5),round(r2_score(y_test,pred),5)])"
      ]
    },
    {
      "cell_type": "code",
      "execution_count": 188,
      "id": "e52baa36",
      "metadata": {
        "colab": {
          "base_uri": "https://localhost:8080/",
          "height": 617
        },
        "id": "e52baa36",
        "outputId": "f3db4c63-fc94-4991-e5b3-bc972b7ebdb5"
      },
      "outputs": [
        {
          "output_type": "display_data",
          "data": {
            "image/png": "[encoded data removed]",
            "text/plain": [
              "<Figure size 720x720 with 1 Axes>"
            ]
          },
          "metadata": {
            "needs_background": "light"
          }
        }
      ],
      "source": [
        "plt.figure(figsize=(10,10))\n",
        "plt.scatter(y_test, pred, c='crimson')\n",
        "plt.yscale('log')\n",
        "plt.xscale('log')\n",
        "\n",
        "p1 = max(max(pred), max(y_test))\n",
        "p2 = min(min(pred), min(y_test))\n",
        "plt.plot([p1, p2], [p1, p2], 'b-')\n",
        "plt.xlabel('y_test', fontsize=15)\n",
        "plt.ylabel('Pred', fontsize=15)\n",
        "plt.axis('equal')\n",
        "plt.show()"
      ]
    },
    {
      "cell_type": "code",
      "execution_count": 189,
      "id": "d132a2c9",
      "metadata": {
        "colab": {
          "base_uri": "https://localhost:8080/",
          "height": 282
        },
        "id": "d132a2c9",
        "outputId": "062e1ff8-dfbf-49b1-f6cb-8f44f95e6efe"
      },
      "outputs": [
        {
          "output_type": "execute_result",
          "data": {
            "text/plain": [
              "<matplotlib.axes._subplots.AxesSubplot at 0x7fef60e30410>"
            ]
          },
          "metadata": {},
          "execution_count": 189
        },
        {
          "output_type": "display_data",
          "data": {
            "image/png": "[encoded data removed]",
            "text/plain": [
              "<Figure size 432x288 with 1 Axes>"
            ]
          },
          "metadata": {
            "needs_background": "light"
          }
        }
      ],
      "source": [
        "#plotting the rmse values against k values\n",
        "curve=pd.DataFrame(rmse_values)\n",
        "curve.plot()"
      ]
    },
    {
      "cell_type": "markdown",
      "id": "4e800e17",
      "metadata": {
        "id": "4e800e17"
      },
      "source": [
        "### 4.3 SVR"
      ]
    },
    {
      "cell_type": "code",
      "execution_count": 190,
      "id": "be46a8da",
      "metadata": {
        "colab": {
          "base_uri": "https://localhost:8080/"
        },
        "id": "be46a8da",
        "outputId": "eadd33e7-feed-45e2-e7f4-1548c7345c67"
      },
      "outputs": [
        {
          "output_type": "stream",
          "name": "stdout",
          "text": [
            "19282.790758504343\n"
          ]
        }
      ],
      "source": [
        "from sklearn.svm import SVR\n",
        "svm_regressor=SVR(kernel=\"rbf\")\n",
        "svm_regressor.fit(x_train,y_train)\n",
        "y_pred=svm_regressor.predict(x_test)\n",
        "error=sqrt(mean_squared_error(y_test,y_pred))\n",
        "print(error)"
      ]
    },
    {
      "cell_type": "code",
      "execution_count": 191,
      "id": "0e70edd3",
      "metadata": {
        "colab": {
          "base_uri": "https://localhost:8080/"
        },
        "id": "0e70edd3",
        "outputId": "6eb368dd-3285-4bbb-ec5c-319cdcda210a"
      },
      "outputs": [
        {
          "output_type": "stream",
          "name": "stdout",
          "text": [
            "R2 value: 0.12827414433739226\n"
          ]
        }
      ],
      "source": [
        "rsquare= -(r2_score(y_test,y_pred))\n",
        "print('R2 value:',rsquare)"
      ]
    },
    {
      "cell_type": "code",
      "execution_count": 192,
      "id": "3e85efde",
      "metadata": {
        "id": "3e85efde"
      },
      "outputs": [],
      "source": [
        "t.append(['SVR',round(error,5) ,round(rsquare,5)])"
      ]
    },
    {
      "cell_type": "code",
      "execution_count": 193,
      "id": "96cae720",
      "metadata": {
        "colab": {
          "base_uri": "https://localhost:8080/",
          "height": 0
        },
        "id": "96cae720",
        "outputId": "b6a36674-fb9d-40a9-f7f6-69fdf9b917e6"
      },
      "outputs": [
        {
          "output_type": "display_data",
          "data": {
            "image/png": "[encoded data removed]",
            "text/plain": [
              "<Figure size 720x720 with 1 Axes>"
            ]
          },
          "metadata": {
            "needs_background": "light"
          }
        }
      ],
      "source": [
        "plt.figure(figsize=(10,10))\n",
        "plt.scatter(y_test, y_pred, c='crimson')\n",
        "plt.yscale('log')\n",
        "plt.xscale('log')\n",
        "\n",
        "p1 = max(max(pred), max(y_test))\n",
        "p2 = min(min(pred), min(y_test))\n",
        "plt.plot([p1, p2], [p1, p2], 'b-')\n",
        "plt.xlabel('y_test', fontsize=15)\n",
        "plt.ylabel('Pred', fontsize=15)\n",
        "plt.axis('equal')\n",
        "plt.show()"
      ]
    },
    {
      "cell_type": "markdown",
      "id": "f308993e",
      "metadata": {
        "id": "f308993e"
      },
      "source": [
        "### 4.4 Decision Tree "
      ]
    },
    {
      "cell_type": "code",
      "execution_count": 194,
      "id": "90f46816",
      "metadata": {
        "colab": {
          "base_uri": "https://localhost:8080/"
        },
        "id": "90f46816",
        "outputId": "74f60d5f-6878-45fb-aafa-d0142d2f061b"
      },
      "outputs": [
        {
          "output_type": "stream",
          "name": "stdout",
          "text": [
            "11671.37422147711\n"
          ]
        }
      ],
      "source": [
        "from sklearn.tree import DecisionTreeRegressor\n",
        "regressor=DecisionTreeRegressor(random_state = 0)\n",
        "regressor.fit(x_train,y_train)\n",
        "y_pred=regressor.predict(x_test)\n",
        "error=sqrt(mean_squared_error(y_test,y_pred))\n",
        "print(error)\n"
      ]
    },
    {
      "cell_type": "code",
      "execution_count": 195,
      "id": "5408377c",
      "metadata": {
        "colab": {
          "base_uri": "https://localhost:8080/"
        },
        "id": "5408377c",
        "outputId": "dcb25f04-0eb6-48c0-a3c3-a2f035489e17"
      },
      "outputs": [
        {
          "output_type": "stream",
          "name": "stdout",
          "text": [
            "R2 value: 0.5866491387129924\n"
          ]
        }
      ],
      "source": [
        "rsquare= r2_score(y_test,y_pred)\n",
        "print('R2 value:',r2_score(y_test,y_pred))"
      ]
    },
    {
      "cell_type": "code",
      "execution_count": 196,
      "id": "45314446",
      "metadata": {
        "id": "45314446"
      },
      "outputs": [],
      "source": [
        "t.append(['Decision Tree',round(sqrt(mean_squared_error(y_test,y_pred)),5),round(r2_score(y_test,y_pred),5)])"
      ]
    },
    {
      "cell_type": "code",
      "execution_count": 197,
      "id": "f3ad411d",
      "metadata": {
        "colab": {
          "base_uri": "https://localhost:8080/",
          "height": 0
        },
        "id": "f3ad411d",
        "outputId": "c39dbb5b-9d55-46d5-9fbb-3bfb76d49f8f"
      },
      "outputs": [
        {
          "output_type": "display_data",
          "data": {
            "image/png": "[encoded data removed]",
            "text/plain": [
              "<Figure size 720x720 with 1 Axes>"
            ]
          },
          "metadata": {
            "needs_background": "light"
          }
        }
      ],
      "source": [
        "plt.figure(figsize=(10,10))\n",
        "plt.scatter(y_test, y_pred, c='crimson')\n",
        "plt.yscale('log')\n",
        "plt.xscale('log')\n",
        "\n",
        "p1 = max(max(y_pred), max(y_test))\n",
        "p2 = min(min(y_pred), min(y_test))\n",
        "plt.plot([p1, p2], [p1, p2], 'b-')\n",
        "plt.xlabel('y_test', fontsize=15)\n",
        "plt.ylabel('Pred', fontsize=15)\n",
        "plt.axis('equal')\n",
        "plt.show()"
      ]
    },
    {
      "cell_type": "markdown",
      "id": "c9435cc6",
      "metadata": {
        "id": "c9435cc6"
      },
      "source": [
        "### 4.5 Random Forest"
      ]
    },
    {
      "cell_type": "code",
      "execution_count": 198,
      "id": "a8f3c0cb",
      "metadata": {
        "colab": {
          "base_uri": "https://localhost:8080/"
        },
        "id": "a8f3c0cb",
        "outputId": "224756da-6dee-4125-9d6b-f90fe4d8c024"
      },
      "outputs": [
        {
          "output_type": "stream",
          "name": "stdout",
          "text": [
            "9354.778858555746\n"
          ]
        }
      ],
      "source": [
        "from sklearn.ensemble import RandomForestRegressor\n",
        "regressor = RandomForestRegressor(n_estimators = 10, random_state = 0)\n",
        "regressor.fit(x_train,y_train)\n",
        "y_pred=regressor.predict(x_test)\n",
        "error=sqrt(mean_squared_error(y_test,y_pred))\n",
        "print(error)"
      ]
    },
    {
      "cell_type": "code",
      "execution_count": 199,
      "id": "dfafb679",
      "metadata": {
        "colab": {
          "base_uri": "https://localhost:8080/"
        },
        "id": "dfafb679",
        "outputId": "305fcfba-8fd3-4d2b-e0c5-37409b1d9099"
      },
      "outputs": [
        {
          "output_type": "stream",
          "name": "stdout",
          "text": [
            "R2 value: 0.7344526880350405\n"
          ]
        }
      ],
      "source": [
        "rsquare= r2_score(y_test,y_pred)\n",
        "print('R2 value:',r2_score(y_test,y_pred))"
      ]
    },
    {
      "cell_type": "code",
      "execution_count": 200,
      "id": "012ea229",
      "metadata": {
        "id": "012ea229"
      },
      "outputs": [],
      "source": [
        "t.append(['Random Forest',round(sqrt(mean_squared_error(y_test,y_pred)),5),round(r2_score(y_test,y_pred),5)])"
      ]
    },
    {
      "cell_type": "code",
      "execution_count": 201,
      "id": "82d8deb2",
      "metadata": {
        "colab": {
          "base_uri": "https://localhost:8080/",
          "height": 617
        },
        "id": "82d8deb2",
        "outputId": "e6e18cc0-2619-42dc-9f32-c8422de81b23"
      },
      "outputs": [
        {
          "output_type": "display_data",
          "data": {
            "image/png": "[encoded data removed]",
            "text/plain": [
              "<Figure size 720x720 with 1 Axes>"
            ]
          },
          "metadata": {
            "needs_background": "light"
          }
        }
      ],
      "source": [
        "plt.figure(figsize=(10,10))\n",
        "plt.scatter(y_test, y_pred, c='crimson')\n",
        "plt.yscale('log')\n",
        "plt.xscale('log')\n",
        "\n",
        "p1 = max(max(y_pred), max(y_test))\n",
        "p2 = min(min(y_pred), min(y_test))\n",
        "plt.plot([p1, p2], [p1, p2], 'b-')\n",
        "plt.xlabel('y_test', fontsize=15)\n",
        "plt.ylabel('Pred', fontsize=15)\n",
        "plt.axis('equal')\n",
        "plt.show()"
      ]
    },
    {
      "cell_type": "code",
      "execution_count": 202,
      "id": "c37b696a",
      "metadata": {
        "colab": {
          "base_uri": "https://localhost:8080/",
          "height": 206
        },
        "id": "c37b696a",
        "outputId": "c46e9aab-2b51-4bd6-949a-3ad6c340aa19"
      },
      "outputs": [
        {
          "output_type": "execute_result",
          "data": {
            "text/html": [
              "\n",
              "  <div id=\"df-6822fa40-1e03-402a-9320-f47f5078c8c1\">\n",
              "    <div class=\"colab-df-container\">\n",
              "      <div>\n",
              "<style scoped>\n",
              "    .dataframe tbody tr th:only-of-type {\n",
              "        vertical-align: middle;\n",
              "    }\n",
              "\n",
              "    .dataframe tbody tr th {\n",
              "        vertical-align: top;\n",
              "    }\n",
              "\n",
              "    .dataframe thead th {\n",
              "        text-align: right;\n",
              "    }\n",
              "</style>\n",
              "<table border=\"1\" class=\"dataframe\">\n",
              "  <thead>\n",
              "    <tr style=\"text-align: right;\">\n",
              "      <th></th>\n",
              "      <th>Algorithms</th>\n",
              "      <th>RMSE</th>\n",
              "      <th>R2</th>\n",
              "    </tr>\n",
              "  </thead>\n",
              "  <tbody>\n",
              "    <tr>\n",
              "      <th>0</th>\n",
              "      <td>Linear Regession</td>\n",
              "      <td>14858.00384</td>\n",
              "      <td>0.33012</td>\n",
              "    </tr>\n",
              "    <tr>\n",
              "      <th>1</th>\n",
              "      <td>KNN</td>\n",
              "      <td>6381.25222</td>\n",
              "      <td>0.87644</td>\n",
              "    </tr>\n",
              "    <tr>\n",
              "      <th>2</th>\n",
              "      <td>SVR</td>\n",
              "      <td>19282.79076</td>\n",
              "      <td>0.12827</td>\n",
              "    </tr>\n",
              "    <tr>\n",
              "      <th>3</th>\n",
              "      <td>Decision Tree</td>\n",
              "      <td>11671.37422</td>\n",
              "      <td>0.58665</td>\n",
              "    </tr>\n",
              "    <tr>\n",
              "      <th>4</th>\n",
              "      <td>Random Forest</td>\n",
              "      <td>9354.77886</td>\n",
              "      <td>0.73445</td>\n",
              "    </tr>\n",
              "  </tbody>\n",
              "</table>\n",
              "</div>\n",
              "      <button class=\"colab-df-convert\" onclick=\"convertToInteractive('df-6822fa40-1e03-402a-9320-f47f5078c8c1')\"\n",
              "              title=\"Convert this dataframe to an interactive table.\"\n",
              "              style=\"display:none;\">\n",
              "        \n",
              "  <svg xmlns=\"http://www.w3.org/2000/svg\" height=\"24px\"viewBox=\"0 0 24 24\"\n",
              "       width=\"24px\">\n",
              "    <path d=\"M0 0h24v24H0V0z\" fill=\"none\"/>\n",
              "    <path d=\"M18.56 5.44l.94 2.06.94-2.06 2.06-.94-2.06-.94-.94-2.06-.94 2.06-2.06.94zm-11 1L8.5 8.5l.94-2.06 2.06-.94-2.06-.94L8.5 2.5l-.94 2.06-2.06.94zm10 10l.94 2.06.94-2.06 2.06-.94-2.06-.94-.94-2.06-.94 2.06-2.06.94z\"/><path d=\"M17.41 7.96l-1.37-1.37c-.4-.4-.92-.59-1.43-.59-.52 0-1.04.2-1.43.59L10.3 9.45l-7.72 7.72c-.78.78-.78 2.05 0 2.83L4 21.41c.39.39.9.59 1.41.59.51 0 1.02-.2 1.41-.59l7.78-7.78 2.81-2.81c.8-.78.8-2.07 0-2.86zM5.41 20L4 18.59l7.72-7.72 1.47 1.35L5.41 20z\"/>\n",
              "  </svg>\n",
              "      </button>\n",
              "      \n",
              "  <style>\n",
              "    .colab-df-container {\n",
              "      display:flex;\n",
              "      flex-wrap:wrap;\n",
              "      gap: 12px;\n",
              "    }\n",
              "\n",
              "    .colab-df-convert {\n",
              "      background-color: #E8F0FE;\n",
              "      border: none;\n",
              "      border-radius: 50%;\n",
              "      cursor: pointer;\n",
              "      display: none;\n",
              "      fill: #1967D2;\n",
              "      height: 32px;\n",
              "      padding: 0 0 0 0;\n",
              "      width: 32px;\n",
              "    }\n",
              "\n",
              "    .colab-df-convert:hover {\n",
              "      background-color: #E2EBFA;\n",
              "      box-shadow: 0px 1px 2px rgba(60, 64, 67, 0.3), 0px 1px 3px 1px rgba(60, 64, 67, 0.15);\n",
              "      fill: #174EA6;\n",
              "    }\n",
              "\n",
              "    [theme=dark] .colab-df-convert {\n",
              "      background-color: #3B4455;\n",
              "      fill: #D2E3FC;\n",
              "    }\n",
              "\n",
              "    [theme=dark] .colab-df-convert:hover {\n",
              "      background-color: #434B5C;\n",
              "      box-shadow: 0px 1px 3px 1px rgba(0, 0, 0, 0.15);\n",
              "      filter: drop-shadow(0px 1px 2px rgba(0, 0, 0, 0.3));\n",
              "      fill: #FFFFFF;\n",
              "    }\n",
              "  </style>\n",
              "\n",
              "      <script>\n",
              "        const buttonEl =\n",
              "          document.querySelector('#df-6822fa40-1e03-402a-9320-f47f5078c8c1 button.colab-df-convert');\n",
              "        buttonEl.style.display =\n",
              "          google.colab.kernel.accessAllowed ? 'block' : 'none';\n",
              "\n",
              "        async function convertToInteractive(key) {\n",
              "          const element = document.querySelector('#df-6822fa40-1e03-402a-9320-f47f5078c8c1');\n",
              "          const dataTable =\n",
              "            await google.colab.kernel.invokeFunction('convertToInteractive',\n",
              "                                                     [key], {});\n",
              "          if (!dataTable) return;\n",
              "\n",
              "          const docLinkHtml = 'Like what you see? Visit the ' +\n",
              "            '<a target=\"_blank\" href=https://colab.research.google.com/notebooks/data_table.ipynb>data table notebook</a>'\n",
              "            + ' to learn more about interactive tables.';\n",
              "          element.innerHTML = '';\n",
              "          dataTable['output_type'] = 'display_data';\n",
              "          await google.colab.output.renderOutput(dataTable, element);\n",
              "          const docLink = document.createElement('div');\n",
              "          docLink.innerHTML = docLinkHtml;\n",
              "          element.appendChild(docLink);\n",
              "        }\n",
              "      </script>\n",
              "    </div>\n",
              "  </div>\n",
              "  "
            ],
            "text/plain": [
              "         Algorithms         RMSE       R2\n",
              "0  Linear Regession  14858.00384  0.33012\n",
              "1               KNN   6381.25222  0.87644\n",
              "2               SVR  19282.79076  0.12827\n",
              "3     Decision Tree  11671.37422  0.58665\n",
              "4     Random Forest   9354.77886  0.73445"
            ]
          },
          "metadata": {},
          "execution_count": 202
        }
      ],
      "source": [
        "values = pd.DataFrame(t, columns = ['Algorithms', 'RMSE','R2'])\n",
        "values"
      ]
    },
    {
      "cell_type": "markdown",
      "id": "5e538dfd",
      "metadata": {
        "id": "5e538dfd"
      },
      "source": [
        "__KNN model__ has highest __R2__ value and lowest __RMSE__ value. So it is the most suitable model as compared to other models for prediction"
      ]
    },
    {
      "cell_type": "markdown",
      "id": "042b50f9",
      "metadata": {
        "id": "042b50f9"
      },
      "source": [
        "### 5. Model Fine Tuning"
      ]
    },
    {
      "cell_type": "code",
      "execution_count": 203,
      "id": "bb484784",
      "metadata": {
        "colab": {
          "base_uri": "https://localhost:8080/"
        },
        "id": "bb484784",
        "outputId": "e55d3324-b479-4ce4-af48-e72934d9973d"
      },
      "outputs": [
        {
          "output_type": "execute_result",
          "data": {
            "text/plain": [
              "KNeighborsRegressor(n_neighbors=4)"
            ]
          },
          "metadata": {},
          "execution_count": 203
        }
      ],
      "source": [
        "knn_model.fit(x_train,y_train)"
      ]
    },
    {
      "cell_type": "code",
      "execution_count": 204,
      "id": "8506e131",
      "metadata": {
        "id": "8506e131"
      },
      "outputs": [],
      "source": [
        "rft=KNeighborsRegressor(algorithm='auto', leaf_size=30, metric='minkowski',metric_params=None, n_jobs=None, n_neighbors=5, p=2, weights='uniform')  "
      ]
    },
    {
      "cell_type": "code",
      "execution_count": 205,
      "id": "30700cef",
      "metadata": {
        "colab": {
          "base_uri": "https://localhost:8080/"
        },
        "id": "30700cef",
        "outputId": "c575a1fe-1741-4f06-8dc7-ea8706e64c62"
      },
      "outputs": [
        {
          "output_type": "execute_result",
          "data": {
            "text/plain": [
              "KNeighborsRegressor()"
            ]
          },
          "metadata": {},
          "execution_count": 205
        }
      ],
      "source": [
        "rft.fit(x_train,y_train)"
      ]
    },
    {
      "cell_type": "code",
      "execution_count": 206,
      "id": "be411f87",
      "metadata": {
        "colab": {
          "base_uri": "https://localhost:8080/"
        },
        "id": "be411f87",
        "outputId": "31d1ee04-d572-46e4-d370-806d2fb5eeee"
      },
      "outputs": [
        {
          "output_type": "stream",
          "name": "stdout",
          "text": [
            "R2 value: 0.876437502192108\n"
          ]
        }
      ],
      "source": [
        "y_pred=rft.predict(x_test)\n",
        "error=sqrt(mean_squared_error(y_test,pred))\n",
        "rsquare= r2_score(y_test,pred)\n",
        "print('R2 value:',r2_score(y_test,pred))"
      ]
    },
    {
      "cell_type": "code",
      "execution_count": 207,
      "id": "5699eec4",
      "metadata": {
        "colab": {
          "base_uri": "https://localhost:8080/"
        },
        "id": "5699eec4",
        "outputId": "8d244d80-2c64-428a-da7e-2df5356cdfb0"
      },
      "outputs": [
        {
          "output_type": "execute_result",
          "data": {
            "text/plain": [
              "GradientBoostingRegressor()"
            ]
          },
          "metadata": {},
          "execution_count": 207
        }
      ],
      "source": [
        "from sklearn.ensemble import GradientBoostingRegressor\n",
        "gb=GradientBoostingRegressor()\n",
        "gb.fit(x_train,y_train)"
      ]
    },
    {
      "cell_type": "code",
      "execution_count": 208,
      "id": "p4RlzbgOxk6t",
      "metadata": {
        "colab": {
          "base_uri": "https://localhost:8080/"
        },
        "id": "p4RlzbgOxk6t",
        "outputId": "a596c12e-db3c-4bad-e763-9a311a163c6d"
      },
      "outputs": [
        {
          "output_type": "stream",
          "name": "stdout",
          "text": [
            "R2 value: 0.876437502192108\n"
          ]
        }
      ],
      "source": [
        "y_pred=gb.predict(x_test)\n",
        "error=sqrt(mean_squared_error(y_test,pred))\n",
        "rsquare= r2_score(y_test,pred)\n",
        "print('R2 value:',r2_score(y_test,pred))"
      ]
    },
    {
      "cell_type": "code",
      "execution_count": 209,
      "id": "_k-Ha6guxs_9",
      "metadata": {
        "colab": {
          "base_uri": "https://localhost:8080/"
        },
        "id": "_k-Ha6guxs_9",
        "outputId": "112e66af-31d7-44ed-ebed-dadfb959cc07"
      },
      "outputs": [
        {
          "output_type": "stream",
          "name": "stdout",
          "text": [
            "[15:41:30] WARNING: /workspace/src/objective/regression_obj.cu:152: reg:linear is now deprecated in favor of reg:squarederror.\n"
          ]
        },
        {
          "output_type": "execute_result",
          "data": {
            "text/plain": [
              "XGBRegressor()"
            ]
          },
          "metadata": {},
          "execution_count": 209
        }
      ],
      "source": [
        "\n",
        "from xgboost import XGBRegressor\n",
        "xb=XGBRegressor()\n",
        "xb.fit(x_train,y_train)"
      ]
    },
    {
      "cell_type": "code",
      "execution_count": 210,
      "id": "Lt89_BpJyuOR",
      "metadata": {
        "colab": {
          "base_uri": "https://localhost:8080/"
        },
        "id": "Lt89_BpJyuOR",
        "outputId": "80c0ef7f-03d6-4cbc-8f56-27d1c83134ec"
      },
      "outputs": [
        {
          "output_type": "stream",
          "name": "stdout",
          "text": [
            "R2 value: 0.876437502192108\n"
          ]
        }
      ],
      "source": [
        "y_pred=xb.predict(x_test)\n",
        "error=sqrt(mean_squared_error(y_test,pred))\n",
        "rsquare= r2_score(y_test,pred)\n",
        "print('R2 value:',r2_score(y_test,pred))"
      ]
    },
    {
      "cell_type": "code",
      "execution_count": 211,
      "id": "KUa3ubray-if",
      "metadata": {
        "colab": {
          "base_uri": "https://localhost:8080/",
          "height": 363
        },
        "id": "KUa3ubray-if",
        "outputId": "7e25bb43-f4c2-47a1-8901-163d7f9ece89"
      },
      "outputs": [
        {
          "output_type": "execute_result",
          "data": {
            "text/html": [
              "\n",
              "  <div id=\"df-c2b55fa5-267c-42d2-ba4f-e19409a665d0\">\n",
              "    <div class=\"colab-df-container\">\n",
              "      <div>\n",
              "<style scoped>\n",
              "    .dataframe tbody tr th:only-of-type {\n",
              "        vertical-align: middle;\n",
              "    }\n",
              "\n",
              "    .dataframe tbody tr th {\n",
              "        vertical-align: top;\n",
              "    }\n",
              "\n",
              "    .dataframe thead th {\n",
              "        text-align: right;\n",
              "    }\n",
              "</style>\n",
              "<table border=\"1\" class=\"dataframe\">\n",
              "  <thead>\n",
              "    <tr style=\"text-align: right;\">\n",
              "      <th></th>\n",
              "      <th>Predicted Data</th>\n",
              "      <th>Test Data</th>\n",
              "    </tr>\n",
              "  </thead>\n",
              "  <tbody>\n",
              "    <tr>\n",
              "      <th>1432</th>\n",
              "      <td>72776.763215</td>\n",
              "      <td>80636.45471</td>\n",
              "    </tr>\n",
              "    <tr>\n",
              "      <th>742</th>\n",
              "      <td>52088.665185</td>\n",
              "      <td>49776.16096</td>\n",
              "    </tr>\n",
              "    <tr>\n",
              "      <th>703</th>\n",
              "      <td>88229.504890</td>\n",
              "      <td>93359.98688</td>\n",
              "    </tr>\n",
              "    <tr>\n",
              "      <th>343</th>\n",
              "      <td>60668.599245</td>\n",
              "      <td>59821.74441</td>\n",
              "    </tr>\n",
              "    <tr>\n",
              "      <th>1278</th>\n",
              "      <td>76598.778733</td>\n",
              "      <td>92837.38147</td>\n",
              "    </tr>\n",
              "    <tr>\n",
              "      <th>1317</th>\n",
              "      <td>54276.986480</td>\n",
              "      <td>49036.65226</td>\n",
              "    </tr>\n",
              "    <tr>\n",
              "      <th>276</th>\n",
              "      <td>82603.917847</td>\n",
              "      <td>86339.22749</td>\n",
              "    </tr>\n",
              "    <tr>\n",
              "      <th>162</th>\n",
              "      <td>53339.518328</td>\n",
              "      <td>47846.19395</td>\n",
              "    </tr>\n",
              "    <tr>\n",
              "      <th>758</th>\n",
              "      <td>53317.486785</td>\n",
              "      <td>54300.70364</td>\n",
              "    </tr>\n",
              "    <tr>\n",
              "      <th>1099</th>\n",
              "      <td>62530.944977</td>\n",
              "      <td>65202.72272</td>\n",
              "    </tr>\n",
              "  </tbody>\n",
              "</table>\n",
              "</div>\n",
              "      <button class=\"colab-df-convert\" onclick=\"convertToInteractive('df-c2b55fa5-267c-42d2-ba4f-e19409a665d0')\"\n",
              "              title=\"Convert this dataframe to an interactive table.\"\n",
              "              style=\"display:none;\">\n",
              "        \n",
              "  <svg xmlns=\"http://www.w3.org/2000/svg\" height=\"24px\"viewBox=\"0 0 24 24\"\n",
              "       width=\"24px\">\n",
              "    <path d=\"M0 0h24v24H0V0z\" fill=\"none\"/>\n",
              "    <path d=\"M18.56 5.44l.94 2.06.94-2.06 2.06-.94-2.06-.94-.94-2.06-.94 2.06-2.06.94zm-11 1L8.5 8.5l.94-2.06 2.06-.94-2.06-.94L8.5 2.5l-.94 2.06-2.06.94zm10 10l.94 2.06.94-2.06 2.06-.94-2.06-.94-.94-2.06-.94 2.06-2.06.94z\"/><path d=\"M17.41 7.96l-1.37-1.37c-.4-.4-.92-.59-1.43-.59-.52 0-1.04.2-1.43.59L10.3 9.45l-7.72 7.72c-.78.78-.78 2.05 0 2.83L4 21.41c.39.39.9.59 1.41.59.51 0 1.02-.2 1.41-.59l7.78-7.78 2.81-2.81c.8-.78.8-2.07 0-2.86zM5.41 20L4 18.59l7.72-7.72 1.47 1.35L5.41 20z\"/>\n",
              "  </svg>\n",
              "      </button>\n",
              "      \n",
              "  <style>\n",
              "    .colab-df-container {\n",
              "      display:flex;\n",
              "      flex-wrap:wrap;\n",
              "      gap: 12px;\n",
              "    }\n",
              "\n",
              "    .colab-df-convert {\n",
              "      background-color: #E8F0FE;\n",
              "      border: none;\n",
              "      border-radius: 50%;\n",
              "      cursor: pointer;\n",
              "      display: none;\n",
              "      fill: #1967D2;\n",
              "      height: 32px;\n",
              "      padding: 0 0 0 0;\n",
              "      width: 32px;\n",
              "    }\n",
              "\n",
              "    .colab-df-convert:hover {\n",
              "      background-color: #E2EBFA;\n",
              "      box-shadow: 0px 1px 2px rgba(60, 64, 67, 0.3), 0px 1px 3px 1px rgba(60, 64, 67, 0.15);\n",
              "      fill: #174EA6;\n",
              "    }\n",
              "\n",
              "    [theme=dark] .colab-df-convert {\n",
              "      background-color: #3B4455;\n",
              "      fill: #D2E3FC;\n",
              "    }\n",
              "\n",
              "    [theme=dark] .colab-df-convert:hover {\n",
              "      background-color: #434B5C;\n",
              "      box-shadow: 0px 1px 3px 1px rgba(0, 0, 0, 0.15);\n",
              "      filter: drop-shadow(0px 1px 2px rgba(0, 0, 0, 0.3));\n",
              "      fill: #FFFFFF;\n",
              "    }\n",
              "  </style>\n",
              "\n",
              "      <script>\n",
              "        const buttonEl =\n",
              "          document.querySelector('#df-c2b55fa5-267c-42d2-ba4f-e19409a665d0 button.colab-df-convert');\n",
              "        buttonEl.style.display =\n",
              "          google.colab.kernel.accessAllowed ? 'block' : 'none';\n",
              "\n",
              "        async function convertToInteractive(key) {\n",
              "          const element = document.querySelector('#df-c2b55fa5-267c-42d2-ba4f-e19409a665d0');\n",
              "          const dataTable =\n",
              "            await google.colab.kernel.invokeFunction('convertToInteractive',\n",
              "                                                     [key], {});\n",
              "          if (!dataTable) return;\n",
              "\n",
              "          const docLinkHtml = 'Like what you see? Visit the ' +\n",
              "            '<a target=\"_blank\" href=https://colab.research.google.com/notebooks/data_table.ipynb>data table notebook</a>'\n",
              "            + ' to learn more about interactive tables.';\n",
              "          element.innerHTML = '';\n",
              "          dataTable['output_type'] = 'display_data';\n",
              "          await google.colab.output.renderOutput(dataTable, element);\n",
              "          const docLink = document.createElement('div');\n",
              "          docLink.innerHTML = docLinkHtml;\n",
              "          element.appendChild(docLink);\n",
              "        }\n",
              "      </script>\n",
              "    </div>\n",
              "  </div>\n",
              "  "
            ],
            "text/plain": [
              "      Predicted Data    Test Data\n",
              "1432    72776.763215  80636.45471\n",
              "742     52088.665185  49776.16096\n",
              "703     88229.504890  93359.98688\n",
              "343     60668.599245  59821.74441\n",
              "1278    76598.778733  92837.38147\n",
              "1317    54276.986480  49036.65226\n",
              "276     82603.917847  86339.22749\n",
              "162     53339.518328  47846.19395\n",
              "758     53317.486785  54300.70364\n",
              "1099    62530.944977  65202.72272"
            ]
          },
          "metadata": {},
          "execution_count": 211
        }
      ],
      "source": [
        "v = pd.DataFrame({'Predicted Data': pred, 'Test Data' : y_test})\n",
        "v.sample(10)"
      ]
    },
    {
      "cell_type": "markdown",
      "source": [
        "'knn_model' is the best model for predicting the total powerconsumption Tetuan City"
      ],
      "metadata": {
        "id": "8EW64OJcR3e8"
      },
      "id": "8EW64OJcR3e8"
    },
    {
      "cell_type": "markdown",
      "source": [
        "Submitted by Group 6\n",
        "Members are,\n",
        "- Amruthendu M \n",
        "- Jagan S\n",
        "- Varsha M\n",
        "- Nitha S Kumar"
      ],
      "metadata": {
        "id": "t2yimLRCSi67"
      },
      "id": "t2yimLRCSi67"
    }
  ],
  "metadata": {
    "colab": {
      "name": "Group 6.ipynb",
      "provenance": []
    },
    "kernelspec": {
      "display_name": "Python 3",
      "language": "python",
      "name": "python3"
    },
    "language_info": {
      "codemirror_mode": {
        "name": "ipython",
        "version": 3
      },
      "file_extension": ".py",
      "mimetype": "text/x-python",
      "name": "python",
      "nbconvert_exporter": "python",
      "pygments_lexer": "ipython3",
      "version": "3.8.8"
    }
  },
  "nbformat": 4,
  "nbformat_minor": 5
}